{
 "cells": [
  {
   "cell_type": "code",
   "execution_count": 1,
   "id": "4800f74e-537e-4572-9c3a-26d42c585df9",
   "metadata": {
    "execution": {
     "iopub.execute_input": "2025-04-07T14:50:55.314392Z",
     "iopub.status.busy": "2025-04-07T14:50:55.314120Z",
     "iopub.status.idle": "2025-04-07T14:50:57.619099Z",
     "shell.execute_reply": "2025-04-07T14:50:57.618574Z",
     "shell.execute_reply.started": "2025-04-07T14:50:55.314361Z"
    }
   },
   "outputs": [
    {
     "name": "stderr",
     "output_type": "stream",
     "text": [
      "Error: \n",
      "  \u001b[31m×\u001b[0m could not find pixi.toml or pyproject.toml at directory /home/mmh/\n",
      "  \u001b[31m│\u001b[0m Projects/OpenPharmMDFlow/experiments/new-pdb-loader\n",
      "\n",
      "/home/mmh/micromamba/envs/openpharmmdflow-new/lib/python3.12/site-packages/openff/utilities/provenance.py:72: CondaExecutableNotFoundWarning: Something went wrong parsing the output of `conda list` or similar. Unable to determine AmberTools version, returning None.\n",
      "  warnings.warn(\n",
      "Error: \n",
      "  \u001b[31m×\u001b[0m could not find pixi.toml or pyproject.toml at directory /home/mmh/\n",
      "  \u001b[31m│\u001b[0m Projects/OpenPharmMDFlow/experiments/new-pdb-loader\n",
      "\n",
      "/home/mmh/micromamba/envs/openpharmmdflow-new/lib/python3.12/site-packages/openff/utilities/provenance.py:72: CondaExecutableNotFoundWarning: Something went wrong parsing the output of `conda list` or similar. Unable to determine AmberTools version, returning None.\n",
      "  warnings.warn(\n"
     ]
    },
    {
     "data": {
      "application/vnd.jupyter.widget-view+json": {
       "model_id": "124db1cc19e6449dbc2dd0ba24c1ac34",
       "version_major": 2,
       "version_minor": 0
      },
      "text/plain": []
     },
     "metadata": {},
     "output_type": "display_data"
    }
   ],
   "source": [
    "from openff.toolkit import Molecule\n",
    "\n",
    "from openff.pablo import CCD_RESIDUE_DEFINITION_CACHE, topology_from_pdb\n",
    "from utils import draw_molecule\n",
    "\n",
    "import os\n",
    "\n",
    "from openff.interchange import Interchange\n",
    "from openff.interchange.components._packmol import pack_box\n",
    "from openff.interchange.components._packmol import solvate_topology\n",
    "from openff.toolkit import ForceField\n",
    "from openff.toolkit import Molecule\n",
    "\n",
    "from openpharmmdflow.bespokefit import build_bespoke_workflow_factory\n",
    "from openpharmmdflow.bespokefit import run_bespokefit\n",
    "from openpharmmdflow.io.load import load_file\n",
    "from openpharmmdflow.pipeline.sm.pipeline_settings import SmallMoleculePipelineConfig\n",
    "from openpharmmdflow.pipeline.sm.simulation import create_simulation\n",
    "from openpharmmdflow.pipeline.sm.simulation import run_simulation\n",
    "\n",
    "\n",
    "import urllib\n",
    "\n",
    "import nglview\n",
    "import numpy as np\n",
    "from openff.toolkit import ForceField, Molecule, Topology\n",
    "from openff.units import unit\n",
    "\n",
    "from openff.interchange import Interchange\n",
    "from openff.interchange.components._packmol import UNIT_CUBE, pack_box\n",
    "from openff.interchange.drivers import get_openmm_energies\n",
    "from openff.interchange.drivers.all import get_summary_data\n",
    "\n",
    "\n",
    "%load_ext snakeviz"
   ]
  },
  {
   "cell_type": "code",
   "execution_count": 5,
   "id": "173b5f4f-3327-4135-b422-45fbdd3a515d",
   "metadata": {
    "execution": {
     "iopub.execute_input": "2025-04-07T15:34:00.931649Z",
     "iopub.status.busy": "2025-04-07T15:34:00.931382Z",
     "iopub.status.idle": "2025-04-07T15:34:20.186274Z",
     "shell.execute_reply": "2025-04-07T15:34:20.185900Z",
     "shell.execute_reply.started": "2025-04-07T15:34:00.931628Z"
    }
   },
   "outputs": [],
   "source": [
    "old_top = Topology.from_pdb(\"../../inputs/mAb/20240523_nistmab_ph6.pdb\")"
   ]
  },
  {
   "cell_type": "code",
   "execution_count": 3,
   "id": "a0ef6eff-22a9-4a24-b755-2ede2248b0ec",
   "metadata": {
    "execution": {
     "iopub.execute_input": "2025-04-07T14:51:35.720919Z",
     "iopub.status.busy": "2025-04-07T14:51:35.720768Z",
     "iopub.status.idle": "2025-04-07T14:51:47.028926Z",
     "shell.execute_reply": "2025-04-07T14:51:47.028439Z",
     "shell.execute_reply.started": "2025-04-07T14:51:35.720906Z"
    }
   },
   "outputs": [
    {
     "name": "stderr",
     "output_type": "stream",
     "text": [
      "/home/mmh/micromamba/envs/openpharmmdflow-new/lib/python3.12/site-packages/openff/pablo/_pdb.py:349: UserWarning: Input PDB has an atom ordering that cannot be represented in an OpenFF Topology. The atoms in this topology will not be in same order as those in PDB file\n",
      "  warnings.warn(\n"
     ]
    }
   ],
   "source": [
    "# ValueError: Cannot match unknown molecule that spans multiple residues:\n",
    "# Found CONECT record between SG#3236@B:CYS#1126 and SG#6606@C:CYS#2005\n",
    "# top = topology_from_pdb(\"../../inputs/mAb/lai_2022_mab3_nogly_ph6.pdb\")\n",
    "top = topology_from_pdb(\"../../inputs/mAb/20240523_nistmab_ph6.pdb\")"
   ]
  },
  {
   "cell_type": "code",
   "execution_count": null,
   "id": "fb75b60d-0a3b-4b69-a50e-58c408e6dc04",
   "metadata": {},
   "outputs": [],
   "source": []
  },
  {
   "cell_type": "code",
   "execution_count": 4,
   "id": "3558a542-8dfa-48e3-83df-deb59b55fe98",
   "metadata": {
    "execution": {
     "iopub.execute_input": "2025-04-07T14:52:12.236218Z",
     "iopub.status.busy": "2025-04-07T14:52:12.235809Z",
     "iopub.status.idle": "2025-04-07T15:18:45.183199Z",
     "shell.execute_reply": "2025-04-07T15:18:45.182532Z",
     "shell.execute_reply.started": "2025-04-07T14:52:12.236185Z"
    }
   },
   "outputs": [
    {
     "ename": "UnassignedAngleError",
     "evalue": "AngleHandler was not able to find parameters for the following valence terms:\n\n- Topology indices (10145, 10136, 10146): names and elements (H1 H), (N N), (H2 H), \n- Topology indices (3211, 3202, 3212): names and elements (H1 H), (N N), (H2 H), \n",
     "output_type": "error",
     "traceback": [
      "\u001b[31m---------------------------------------------------------------------------\u001b[39m",
      "\u001b[31mUnassignedAngleError\u001b[39m                      Traceback (most recent call last)",
      "\u001b[36mCell\u001b[39m\u001b[36m \u001b[39m\u001b[32mIn[4]\u001b[39m\u001b[32m, line 2\u001b[39m\n\u001b[32m      1\u001b[39m ff14sb = ForceField(\u001b[33m\"\u001b[39m\u001b[33mff14sb_off_impropers_0.0.3.offxml\u001b[39m\u001b[33m\"\u001b[39m)\n\u001b[32m----> \u001b[39m\u001b[32m2\u001b[39m protein_intrcg = \u001b[43mInterchange\u001b[49m\u001b[43m.\u001b[49m\u001b[43mfrom_smirnoff\u001b[49m\u001b[43m(\u001b[49m\n\u001b[32m      3\u001b[39m \u001b[43m    \u001b[49m\u001b[43mforce_field\u001b[49m\u001b[43m=\u001b[49m\u001b[43mff14sb\u001b[49m\u001b[43m,\u001b[49m\n\u001b[32m      4\u001b[39m \u001b[43m    \u001b[49m\u001b[43mtopology\u001b[49m\u001b[43m=\u001b[49m\u001b[43mtop\u001b[49m\n\u001b[32m      5\u001b[39m \u001b[43m)\u001b[49m\n",
      "\u001b[36mFile \u001b[39m\u001b[32m~/micromamba/envs/openpharmmdflow-new/lib/python3.12/site-packages/openff/interchange/components/interchange.py:268\u001b[39m, in \u001b[36mInterchange.from_smirnoff\u001b[39m\u001b[34m(cls, force_field, topology, box, positions, charge_from_molecules, partial_bond_orders_from_molecules, allow_nonintegral_charges)\u001b[39m\n\u001b[32m    219\u001b[39m \u001b[38;5;250m\u001b[39m\u001b[33;03m\"\"\"\u001b[39;00m\n\u001b[32m    220\u001b[39m \u001b[33;03mCreate a new object by parameterizing a topology with a SMIRNOFF force field.\u001b[39;00m\n\u001b[32m    221\u001b[39m \n\u001b[32m   (...)\u001b[39m\u001b[32m    264\u001b[39m \n\u001b[32m    265\u001b[39m \u001b[33;03m\"\"\"\u001b[39;00m\n\u001b[32m    266\u001b[39m \u001b[38;5;28;01mfrom\u001b[39;00m\u001b[38;5;250m \u001b[39m\u001b[34;01mopenff\u001b[39;00m\u001b[34;01m.\u001b[39;00m\u001b[34;01minterchange\u001b[39;00m\u001b[34;01m.\u001b[39;00m\u001b[34;01msmirnoff\u001b[39;00m\u001b[34;01m.\u001b[39;00m\u001b[34;01m_create\u001b[39;00m\u001b[38;5;250m \u001b[39m\u001b[38;5;28;01mimport\u001b[39;00m _create_interchange\n\u001b[32m--> \u001b[39m\u001b[32m268\u001b[39m \u001b[38;5;28;01mreturn\u001b[39;00m \u001b[43m_create_interchange\u001b[49m\u001b[43m(\u001b[49m\n\u001b[32m    269\u001b[39m \u001b[43m    \u001b[49m\u001b[43mforce_field\u001b[49m\u001b[43m=\u001b[49m\u001b[43mforce_field\u001b[49m\u001b[43m,\u001b[49m\n\u001b[32m    270\u001b[39m \u001b[43m    \u001b[49m\u001b[43mtopology\u001b[49m\u001b[43m=\u001b[49m\u001b[43mtopology\u001b[49m\u001b[43m,\u001b[49m\n\u001b[32m    271\u001b[39m \u001b[43m    \u001b[49m\u001b[43mbox\u001b[49m\u001b[43m=\u001b[49m\u001b[43mbox\u001b[49m\u001b[43m,\u001b[49m\n\u001b[32m    272\u001b[39m \u001b[43m    \u001b[49m\u001b[43mpositions\u001b[49m\u001b[43m=\u001b[49m\u001b[43mpositions\u001b[49m\u001b[43m,\u001b[49m\n\u001b[32m    273\u001b[39m \u001b[43m    \u001b[49m\u001b[43mcharge_from_molecules\u001b[49m\u001b[43m=\u001b[49m\u001b[43mcharge_from_molecules\u001b[49m\u001b[43m,\u001b[49m\n\u001b[32m    274\u001b[39m \u001b[43m    \u001b[49m\u001b[43mpartial_bond_orders_from_molecules\u001b[49m\u001b[43m=\u001b[49m\u001b[43mpartial_bond_orders_from_molecules\u001b[49m\u001b[43m,\u001b[49m\n\u001b[32m    275\u001b[39m \u001b[43m    \u001b[49m\u001b[43mallow_nonintegral_charges\u001b[49m\u001b[43m=\u001b[49m\u001b[43mallow_nonintegral_charges\u001b[49m\u001b[43m,\u001b[49m\n\u001b[32m    276\u001b[39m \u001b[43m\u001b[49m\u001b[43m)\u001b[49m\n",
      "\u001b[36mFile \u001b[39m\u001b[32m~/micromamba/envs/openpharmmdflow-new/lib/python3.12/site-packages/openff/interchange/smirnoff/_create.py:107\u001b[39m, in \u001b[36m_create_interchange\u001b[39m\u001b[34m(force_field, topology, box, positions, charge_from_molecules, partial_bond_orders_from_molecules, allow_nonintegral_charges)\u001b[39m\n\u001b[32m    100\u001b[39m _bonds(interchange, force_field, _topology, partial_bond_orders_from_molecules)\n\u001b[32m    101\u001b[39m _constraints(\n\u001b[32m    102\u001b[39m     interchange,\n\u001b[32m    103\u001b[39m     force_field,\n\u001b[32m    104\u001b[39m     _topology,\n\u001b[32m    105\u001b[39m     bonds=interchange.collections.get(\u001b[33m\"\u001b[39m\u001b[33mBonds\u001b[39m\u001b[33m\"\u001b[39m, \u001b[38;5;28;01mNone\u001b[39;00m),  \u001b[38;5;66;03m# type: ignore[arg-type]\u001b[39;00m\n\u001b[32m    106\u001b[39m )\n\u001b[32m--> \u001b[39m\u001b[32m107\u001b[39m \u001b[43m_angles\u001b[49m\u001b[43m(\u001b[49m\u001b[43minterchange\u001b[49m\u001b[43m,\u001b[49m\u001b[43m \u001b[49m\u001b[43mforce_field\u001b[49m\u001b[43m,\u001b[49m\u001b[43m \u001b[49m\u001b[43m_topology\u001b[49m\u001b[43m)\u001b[49m\n\u001b[32m    108\u001b[39m _propers(interchange, force_field, _topology, partial_bond_orders_from_molecules)\n\u001b[32m    109\u001b[39m _impropers(interchange, force_field, _topology)\n",
      "\u001b[36mFile \u001b[39m\u001b[32m~/micromamba/envs/openpharmmdflow-new/lib/python3.12/site-packages/openff/interchange/smirnoff/_create.py:185\u001b[39m, in \u001b[36m_angles\u001b[39m\u001b[34m(interchange, force_field, _topology)\u001b[39m\n\u001b[32m    180\u001b[39m \u001b[38;5;28;01mif\u001b[39;00m \u001b[33m\"\u001b[39m\u001b[33mAngles\u001b[39m\u001b[33m\"\u001b[39m \u001b[38;5;129;01mnot\u001b[39;00m \u001b[38;5;129;01min\u001b[39;00m force_field.registered_parameter_handlers:\n\u001b[32m    181\u001b[39m     \u001b[38;5;28;01mreturn\u001b[39;00m\n\u001b[32m    183\u001b[39m interchange.collections.update(\n\u001b[32m    184\u001b[39m     {\n\u001b[32m--> \u001b[39m\u001b[32m185\u001b[39m         \u001b[33m\"\u001b[39m\u001b[33mAngles\u001b[39m\u001b[33m\"\u001b[39m: \u001b[43mSMIRNOFFAngleCollection\u001b[49m\u001b[43m.\u001b[49m\u001b[43mcreate\u001b[49m\u001b[43m(\u001b[49m\n\u001b[32m    186\u001b[39m \u001b[43m            \u001b[49m\u001b[43mparameter_handler\u001b[49m\u001b[43m=\u001b[49m\u001b[43mforce_field\u001b[49m\u001b[43m[\u001b[49m\u001b[33;43m\"\u001b[39;49m\u001b[33;43mAngles\u001b[39;49m\u001b[33;43m\"\u001b[39;49m\u001b[43m]\u001b[49m\u001b[43m,\u001b[49m\n\u001b[32m    187\u001b[39m \u001b[43m            \u001b[49m\u001b[43mtopology\u001b[49m\u001b[43m=\u001b[49m\u001b[43m_topology\u001b[49m\u001b[43m,\u001b[49m\n\u001b[32m    188\u001b[39m \u001b[43m        \u001b[49m\u001b[43m)\u001b[49m,\n\u001b[32m    189\u001b[39m     },\n\u001b[32m    190\u001b[39m )\n",
      "\u001b[36mFile \u001b[39m\u001b[32m~/micromamba/envs/openpharmmdflow-new/lib/python3.12/site-packages/openff/interchange/smirnoff/_base.py:314\u001b[39m, in \u001b[36mSMIRNOFFCollection.create\u001b[39m\u001b[34m(cls, parameter_handler, topology)\u001b[39m\n\u001b[32m    308\u001b[39m         collection.fractional_bond_order_method = (  \u001b[38;5;66;03m# type: ignore[attr-defined]\u001b[39;00m\n\u001b[32m    309\u001b[39m             parameter_handler.fractional_bondorder_method\n\u001b[32m    310\u001b[39m         )\n\u001b[32m    311\u001b[39m         collection.fractional_bond_order_interpolation = (  \u001b[38;5;66;03m# type: ignore[attr-defined]\u001b[39;00m\n\u001b[32m    312\u001b[39m             parameter_handler.fractional_bondorder_interpolation\n\u001b[32m    313\u001b[39m         )\n\u001b[32m--> \u001b[39m\u001b[32m314\u001b[39m \u001b[43mcollection\u001b[49m\u001b[43m.\u001b[49m\u001b[43mstore_matches\u001b[49m\u001b[43m(\u001b[49m\u001b[43mparameter_handler\u001b[49m\u001b[43m=\u001b[49m\u001b[43mparameter_handler\u001b[49m\u001b[43m,\u001b[49m\u001b[43m \u001b[49m\u001b[43mtopology\u001b[49m\u001b[43m=\u001b[49m\u001b[43mtopology\u001b[49m\u001b[43m)\u001b[49m\n\u001b[32m    315\u001b[39m collection.store_potentials(parameter_handler=parameter_handler)\n\u001b[32m    317\u001b[39m \u001b[38;5;28;01mreturn\u001b[39;00m collection\n",
      "\u001b[36mFile \u001b[39m\u001b[32m~/micromamba/envs/openpharmmdflow-new/lib/python3.12/site-packages/openff/interchange/smirnoff/_base.py:279\u001b[39m, in \u001b[36mSMIRNOFFCollection.store_matches\u001b[39m\u001b[34m(self, parameter_handler, topology)\u001b[39m\n\u001b[32m    273\u001b[39m \u001b[38;5;28;01mif\u001b[39;00m \u001b[38;5;28mself\u001b[39m.\u001b[34m__class__\u001b[39m.\u001b[34m__name__\u001b[39m \u001b[38;5;129;01min\u001b[39;00m [\n\u001b[32m    274\u001b[39m     \u001b[33m\"\u001b[39m\u001b[33mSMIRNOFFBondCollection\u001b[39m\u001b[33m\"\u001b[39m,\n\u001b[32m    275\u001b[39m     \u001b[33m\"\u001b[39m\u001b[33mSMIRNOFFAngleCollection\u001b[39m\u001b[33m\"\u001b[39m,\n\u001b[32m    276\u001b[39m ]:\n\u001b[32m    277\u001b[39m     valence_terms = \u001b[38;5;28mself\u001b[39m.valence_terms(topology)\n\u001b[32m--> \u001b[39m\u001b[32m279\u001b[39m     \u001b[43m_check_all_valence_terms_assigned\u001b[49m\u001b[43m(\u001b[49m\n\u001b[32m    280\u001b[39m \u001b[43m        \u001b[49m\u001b[43mhandler\u001b[49m\u001b[43m=\u001b[49m\u001b[43mparameter_handler\u001b[49m\u001b[43m,\u001b[49m\n\u001b[32m    281\u001b[39m \u001b[43m        \u001b[49m\u001b[43massigned_terms\u001b[49m\u001b[43m=\u001b[49m\u001b[43mmatches\u001b[49m\u001b[43m,\u001b[49m\n\u001b[32m    282\u001b[39m \u001b[43m        \u001b[49m\u001b[43mtopology\u001b[49m\u001b[43m=\u001b[49m\u001b[43mtopology\u001b[49m\u001b[43m,\u001b[49m\n\u001b[32m    283\u001b[39m \u001b[43m        \u001b[49m\u001b[43mvalence_terms\u001b[49m\u001b[43m=\u001b[49m\u001b[43mvalence_terms\u001b[49m\u001b[43m,\u001b[49m\n\u001b[32m    284\u001b[39m \u001b[43m    \u001b[49m\u001b[43m)\u001b[49m\n",
      "\u001b[36mFile \u001b[39m\u001b[32m~/micromamba/envs/openpharmmdflow-new/lib/python3.12/site-packages/openff/interchange/smirnoff/_base.py:183\u001b[39m, in \u001b[36m_check_all_valence_terms_assigned\u001b[39m\u001b[34m(handler, assigned_terms, topology, valence_terms)\u001b[39m\n\u001b[32m    181\u001b[39m exception.unassigned_topology_atom_tuples = unassigned_atom_tuples\n\u001b[32m    182\u001b[39m exception.handler_class = handler.\u001b[34m__class__\u001b[39m\n\u001b[32m--> \u001b[39m\u001b[32m183\u001b[39m \u001b[38;5;28;01mraise\u001b[39;00m exception\n",
      "\u001b[31mUnassignedAngleError\u001b[39m: AngleHandler was not able to find parameters for the following valence terms:\n\n- Topology indices (10145, 10136, 10146): names and elements (H1 H), (N N), (H2 H), \n- Topology indices (3211, 3202, 3212): names and elements (H1 H), (N N), (H2 H), \n"
     ]
    }
   ],
   "source": [
    "ff14sb = ForceField(\"ff14sb_off_impropers_0.0.3.offxml\")\n",
    "protein_intrcg = Interchange.from_smirnoff(force_field=ff14sb, topology=top)"
   ]
  },
  {
   "cell_type": "code",
   "execution_count": 6,
   "id": "9acef188-a4ab-4583-8628-35f12b230fa5",
   "metadata": {
    "execution": {
     "iopub.execute_input": "2025-04-07T15:34:25.012838Z",
     "iopub.status.busy": "2025-04-07T15:34:25.012152Z",
     "iopub.status.idle": "2025-04-07T16:44:00.449610Z",
     "shell.execute_reply": "2025-04-07T16:44:00.449021Z",
     "shell.execute_reply.started": "2025-04-07T15:34:25.012778Z"
    }
   },
   "outputs": [
    {
     "ename": "UnassignedAngleError",
     "evalue": "AngleHandler was not able to find parameters for the following valence terms:\n\n- Topology indices (13346, 13337, 13347): names and elements (H H), (N N), (H2 H), \n- Topology indices (3211, 3202, 3212): names and elements (H H), (N N), (H2 H), \n",
     "output_type": "error",
     "traceback": [
      "\u001b[31m---------------------------------------------------------------------------\u001b[39m",
      "\u001b[31mUnassignedAngleError\u001b[39m                      Traceback (most recent call last)",
      "\u001b[36mCell\u001b[39m\u001b[36m \u001b[39m\u001b[32mIn[6]\u001b[39m\u001b[32m, line 2\u001b[39m\n\u001b[32m      1\u001b[39m ff14sb = ForceField(\u001b[33m\"\u001b[39m\u001b[33mff14sb_off_impropers_0.0.3.offxml\u001b[39m\u001b[33m\"\u001b[39m)\n\u001b[32m----> \u001b[39m\u001b[32m2\u001b[39m protein_intrcg = \u001b[43mInterchange\u001b[49m\u001b[43m.\u001b[49m\u001b[43mfrom_smirnoff\u001b[49m\u001b[43m(\u001b[49m\n\u001b[32m      3\u001b[39m \u001b[43m    \u001b[49m\u001b[43mforce_field\u001b[49m\u001b[43m=\u001b[49m\u001b[43mff14sb\u001b[49m\u001b[43m,\u001b[49m\n\u001b[32m      4\u001b[39m \u001b[43m    \u001b[49m\u001b[43mtopology\u001b[49m\u001b[43m=\u001b[49m\u001b[43mold_top\u001b[49m\n\u001b[32m      5\u001b[39m \u001b[43m)\u001b[49m\n",
      "\u001b[36mFile \u001b[39m\u001b[32m~/micromamba/envs/openpharmmdflow-new/lib/python3.12/site-packages/openff/interchange/components/interchange.py:268\u001b[39m, in \u001b[36mInterchange.from_smirnoff\u001b[39m\u001b[34m(cls, force_field, topology, box, positions, charge_from_molecules, partial_bond_orders_from_molecules, allow_nonintegral_charges)\u001b[39m\n\u001b[32m    219\u001b[39m \u001b[38;5;250m\u001b[39m\u001b[33;03m\"\"\"\u001b[39;00m\n\u001b[32m    220\u001b[39m \u001b[33;03mCreate a new object by parameterizing a topology with a SMIRNOFF force field.\u001b[39;00m\n\u001b[32m    221\u001b[39m \n\u001b[32m   (...)\u001b[39m\u001b[32m    264\u001b[39m \n\u001b[32m    265\u001b[39m \u001b[33;03m\"\"\"\u001b[39;00m\n\u001b[32m    266\u001b[39m \u001b[38;5;28;01mfrom\u001b[39;00m\u001b[38;5;250m \u001b[39m\u001b[34;01mopenff\u001b[39;00m\u001b[34;01m.\u001b[39;00m\u001b[34;01minterchange\u001b[39;00m\u001b[34;01m.\u001b[39;00m\u001b[34;01msmirnoff\u001b[39;00m\u001b[34;01m.\u001b[39;00m\u001b[34;01m_create\u001b[39;00m\u001b[38;5;250m \u001b[39m\u001b[38;5;28;01mimport\u001b[39;00m _create_interchange\n\u001b[32m--> \u001b[39m\u001b[32m268\u001b[39m \u001b[38;5;28;01mreturn\u001b[39;00m \u001b[43m_create_interchange\u001b[49m\u001b[43m(\u001b[49m\n\u001b[32m    269\u001b[39m \u001b[43m    \u001b[49m\u001b[43mforce_field\u001b[49m\u001b[43m=\u001b[49m\u001b[43mforce_field\u001b[49m\u001b[43m,\u001b[49m\n\u001b[32m    270\u001b[39m \u001b[43m    \u001b[49m\u001b[43mtopology\u001b[49m\u001b[43m=\u001b[49m\u001b[43mtopology\u001b[49m\u001b[43m,\u001b[49m\n\u001b[32m    271\u001b[39m \u001b[43m    \u001b[49m\u001b[43mbox\u001b[49m\u001b[43m=\u001b[49m\u001b[43mbox\u001b[49m\u001b[43m,\u001b[49m\n\u001b[32m    272\u001b[39m \u001b[43m    \u001b[49m\u001b[43mpositions\u001b[49m\u001b[43m=\u001b[49m\u001b[43mpositions\u001b[49m\u001b[43m,\u001b[49m\n\u001b[32m    273\u001b[39m \u001b[43m    \u001b[49m\u001b[43mcharge_from_molecules\u001b[49m\u001b[43m=\u001b[49m\u001b[43mcharge_from_molecules\u001b[49m\u001b[43m,\u001b[49m\n\u001b[32m    274\u001b[39m \u001b[43m    \u001b[49m\u001b[43mpartial_bond_orders_from_molecules\u001b[49m\u001b[43m=\u001b[49m\u001b[43mpartial_bond_orders_from_molecules\u001b[49m\u001b[43m,\u001b[49m\n\u001b[32m    275\u001b[39m \u001b[43m    \u001b[49m\u001b[43mallow_nonintegral_charges\u001b[49m\u001b[43m=\u001b[49m\u001b[43mallow_nonintegral_charges\u001b[49m\u001b[43m,\u001b[49m\n\u001b[32m    276\u001b[39m \u001b[43m\u001b[49m\u001b[43m)\u001b[49m\n",
      "\u001b[36mFile \u001b[39m\u001b[32m~/micromamba/envs/openpharmmdflow-new/lib/python3.12/site-packages/openff/interchange/smirnoff/_create.py:107\u001b[39m, in \u001b[36m_create_interchange\u001b[39m\u001b[34m(force_field, topology, box, positions, charge_from_molecules, partial_bond_orders_from_molecules, allow_nonintegral_charges)\u001b[39m\n\u001b[32m    100\u001b[39m _bonds(interchange, force_field, _topology, partial_bond_orders_from_molecules)\n\u001b[32m    101\u001b[39m _constraints(\n\u001b[32m    102\u001b[39m     interchange,\n\u001b[32m    103\u001b[39m     force_field,\n\u001b[32m    104\u001b[39m     _topology,\n\u001b[32m    105\u001b[39m     bonds=interchange.collections.get(\u001b[33m\"\u001b[39m\u001b[33mBonds\u001b[39m\u001b[33m\"\u001b[39m, \u001b[38;5;28;01mNone\u001b[39;00m),  \u001b[38;5;66;03m# type: ignore[arg-type]\u001b[39;00m\n\u001b[32m    106\u001b[39m )\n\u001b[32m--> \u001b[39m\u001b[32m107\u001b[39m \u001b[43m_angles\u001b[49m\u001b[43m(\u001b[49m\u001b[43minterchange\u001b[49m\u001b[43m,\u001b[49m\u001b[43m \u001b[49m\u001b[43mforce_field\u001b[49m\u001b[43m,\u001b[49m\u001b[43m \u001b[49m\u001b[43m_topology\u001b[49m\u001b[43m)\u001b[49m\n\u001b[32m    108\u001b[39m _propers(interchange, force_field, _topology, partial_bond_orders_from_molecules)\n\u001b[32m    109\u001b[39m _impropers(interchange, force_field, _topology)\n",
      "\u001b[36mFile \u001b[39m\u001b[32m~/micromamba/envs/openpharmmdflow-new/lib/python3.12/site-packages/openff/interchange/smirnoff/_create.py:185\u001b[39m, in \u001b[36m_angles\u001b[39m\u001b[34m(interchange, force_field, _topology)\u001b[39m\n\u001b[32m    180\u001b[39m \u001b[38;5;28;01mif\u001b[39;00m \u001b[33m\"\u001b[39m\u001b[33mAngles\u001b[39m\u001b[33m\"\u001b[39m \u001b[38;5;129;01mnot\u001b[39;00m \u001b[38;5;129;01min\u001b[39;00m force_field.registered_parameter_handlers:\n\u001b[32m    181\u001b[39m     \u001b[38;5;28;01mreturn\u001b[39;00m\n\u001b[32m    183\u001b[39m interchange.collections.update(\n\u001b[32m    184\u001b[39m     {\n\u001b[32m--> \u001b[39m\u001b[32m185\u001b[39m         \u001b[33m\"\u001b[39m\u001b[33mAngles\u001b[39m\u001b[33m\"\u001b[39m: \u001b[43mSMIRNOFFAngleCollection\u001b[49m\u001b[43m.\u001b[49m\u001b[43mcreate\u001b[49m\u001b[43m(\u001b[49m\n\u001b[32m    186\u001b[39m \u001b[43m            \u001b[49m\u001b[43mparameter_handler\u001b[49m\u001b[43m=\u001b[49m\u001b[43mforce_field\u001b[49m\u001b[43m[\u001b[49m\u001b[33;43m\"\u001b[39;49m\u001b[33;43mAngles\u001b[39;49m\u001b[33;43m\"\u001b[39;49m\u001b[43m]\u001b[49m\u001b[43m,\u001b[49m\n\u001b[32m    187\u001b[39m \u001b[43m            \u001b[49m\u001b[43mtopology\u001b[49m\u001b[43m=\u001b[49m\u001b[43m_topology\u001b[49m\u001b[43m,\u001b[49m\n\u001b[32m    188\u001b[39m \u001b[43m        \u001b[49m\u001b[43m)\u001b[49m,\n\u001b[32m    189\u001b[39m     },\n\u001b[32m    190\u001b[39m )\n",
      "\u001b[36mFile \u001b[39m\u001b[32m~/micromamba/envs/openpharmmdflow-new/lib/python3.12/site-packages/openff/interchange/smirnoff/_base.py:314\u001b[39m, in \u001b[36mSMIRNOFFCollection.create\u001b[39m\u001b[34m(cls, parameter_handler, topology)\u001b[39m\n\u001b[32m    308\u001b[39m         collection.fractional_bond_order_method = (  \u001b[38;5;66;03m# type: ignore[attr-defined]\u001b[39;00m\n\u001b[32m    309\u001b[39m             parameter_handler.fractional_bondorder_method\n\u001b[32m    310\u001b[39m         )\n\u001b[32m    311\u001b[39m         collection.fractional_bond_order_interpolation = (  \u001b[38;5;66;03m# type: ignore[attr-defined]\u001b[39;00m\n\u001b[32m    312\u001b[39m             parameter_handler.fractional_bondorder_interpolation\n\u001b[32m    313\u001b[39m         )\n\u001b[32m--> \u001b[39m\u001b[32m314\u001b[39m \u001b[43mcollection\u001b[49m\u001b[43m.\u001b[49m\u001b[43mstore_matches\u001b[49m\u001b[43m(\u001b[49m\u001b[43mparameter_handler\u001b[49m\u001b[43m=\u001b[49m\u001b[43mparameter_handler\u001b[49m\u001b[43m,\u001b[49m\u001b[43m \u001b[49m\u001b[43mtopology\u001b[49m\u001b[43m=\u001b[49m\u001b[43mtopology\u001b[49m\u001b[43m)\u001b[49m\n\u001b[32m    315\u001b[39m collection.store_potentials(parameter_handler=parameter_handler)\n\u001b[32m    317\u001b[39m \u001b[38;5;28;01mreturn\u001b[39;00m collection\n",
      "\u001b[36mFile \u001b[39m\u001b[32m~/micromamba/envs/openpharmmdflow-new/lib/python3.12/site-packages/openff/interchange/smirnoff/_base.py:279\u001b[39m, in \u001b[36mSMIRNOFFCollection.store_matches\u001b[39m\u001b[34m(self, parameter_handler, topology)\u001b[39m\n\u001b[32m    273\u001b[39m \u001b[38;5;28;01mif\u001b[39;00m \u001b[38;5;28mself\u001b[39m.\u001b[34m__class__\u001b[39m.\u001b[34m__name__\u001b[39m \u001b[38;5;129;01min\u001b[39;00m [\n\u001b[32m    274\u001b[39m     \u001b[33m\"\u001b[39m\u001b[33mSMIRNOFFBondCollection\u001b[39m\u001b[33m\"\u001b[39m,\n\u001b[32m    275\u001b[39m     \u001b[33m\"\u001b[39m\u001b[33mSMIRNOFFAngleCollection\u001b[39m\u001b[33m\"\u001b[39m,\n\u001b[32m    276\u001b[39m ]:\n\u001b[32m    277\u001b[39m     valence_terms = \u001b[38;5;28mself\u001b[39m.valence_terms(topology)\n\u001b[32m--> \u001b[39m\u001b[32m279\u001b[39m     \u001b[43m_check_all_valence_terms_assigned\u001b[49m\u001b[43m(\u001b[49m\n\u001b[32m    280\u001b[39m \u001b[43m        \u001b[49m\u001b[43mhandler\u001b[49m\u001b[43m=\u001b[49m\u001b[43mparameter_handler\u001b[49m\u001b[43m,\u001b[49m\n\u001b[32m    281\u001b[39m \u001b[43m        \u001b[49m\u001b[43massigned_terms\u001b[49m\u001b[43m=\u001b[49m\u001b[43mmatches\u001b[49m\u001b[43m,\u001b[49m\n\u001b[32m    282\u001b[39m \u001b[43m        \u001b[49m\u001b[43mtopology\u001b[49m\u001b[43m=\u001b[49m\u001b[43mtopology\u001b[49m\u001b[43m,\u001b[49m\n\u001b[32m    283\u001b[39m \u001b[43m        \u001b[49m\u001b[43mvalence_terms\u001b[49m\u001b[43m=\u001b[49m\u001b[43mvalence_terms\u001b[49m\u001b[43m,\u001b[49m\n\u001b[32m    284\u001b[39m \u001b[43m    \u001b[49m\u001b[43m)\u001b[49m\n",
      "\u001b[36mFile \u001b[39m\u001b[32m~/micromamba/envs/openpharmmdflow-new/lib/python3.12/site-packages/openff/interchange/smirnoff/_base.py:183\u001b[39m, in \u001b[36m_check_all_valence_terms_assigned\u001b[39m\u001b[34m(handler, assigned_terms, topology, valence_terms)\u001b[39m\n\u001b[32m    181\u001b[39m exception.unassigned_topology_atom_tuples = unassigned_atom_tuples\n\u001b[32m    182\u001b[39m exception.handler_class = handler.\u001b[34m__class__\u001b[39m\n\u001b[32m--> \u001b[39m\u001b[32m183\u001b[39m \u001b[38;5;28;01mraise\u001b[39;00m exception\n",
      "\u001b[31mUnassignedAngleError\u001b[39m: AngleHandler was not able to find parameters for the following valence terms:\n\n- Topology indices (13346, 13337, 13347): names and elements (H H), (N N), (H2 H), \n- Topology indices (3211, 3202, 3212): names and elements (H H), (N N), (H2 H), \n"
     ]
    }
   ],
   "source": [
    "ff14sb = ForceField(\"ff14sb_off_impropers_0.0.3.offxml\")\n",
    "protein_intrcg = Interchange.from_smirnoff(force_field=ff14sb, topology=old_top)"
   ]
  },
  {
   "cell_type": "code",
   "execution_count": 7,
   "id": "bd26aae3-cffd-46e3-b676-d61b943aedc4",
   "metadata": {
    "execution": {
     "iopub.execute_input": "2025-04-07T16:49:52.584101Z",
     "iopub.status.busy": "2025-04-07T16:49:52.583815Z",
     "iopub.status.idle": "2025-04-07T16:50:16.174265Z",
     "shell.execute_reply": "2025-04-07T16:50:16.173729Z",
     "shell.execute_reply.started": "2025-04-07T16:49:52.584079Z"
    }
   },
   "outputs": [],
   "source": [
    "old_top_lai = Topology.from_pdb(\"../../inputs/mAb/lai_2022_mab3_nogly_ph6.pdb\")"
   ]
  },
  {
   "cell_type": "code",
   "execution_count": null,
   "id": "dd3b3048-aec0-4f33-b7bb-f5a27022f95b",
   "metadata": {
    "execution": {
     "iopub.execute_input": "2025-04-07T16:53:12.765948Z",
     "iopub.status.busy": "2025-04-07T16:53:12.765236Z"
    }
   },
   "outputs": [],
   "source": [
    "ff14sb = ForceField(\"ff14sb_off_impropers_0.0.3.offxml\")\n",
    "protein_intrcg = Interchange.from_smirnoff(force_field=ff14sb, topology=old_top_lai)"
   ]
  },
  {
   "cell_type": "code",
   "execution_count": null,
   "id": "b9f8fa32-9ad8-41c4-b3a2-675efe16d36a",
   "metadata": {},
   "outputs": [],
   "source": []
  }
 ],
 "metadata": {
  "kernelspec": {
   "display_name": "Python 3 (ipykernel)",
   "language": "python",
   "name": "python3"
  },
  "language_info": {
   "codemirror_mode": {
    "name": "ipython",
    "version": 3
   },
   "file_extension": ".py",
   "mimetype": "text/x-python",
   "name": "python",
   "nbconvert_exporter": "python",
   "pygments_lexer": "ipython3",
   "version": "3.12.9"
  }
 },
 "nbformat": 4,
 "nbformat_minor": 5
}
