{
 "cells": [
  {
   "cell_type": "markdown",
   "id": "6f8b5737-a1dc-485f-8961-f2515e410adc",
   "metadata": {},
   "source": [
    "# Mini MVP"
   ]
  },
  {
   "cell_type": "code",
   "execution_count": 1,
   "id": "622344e3-5e13-46b3-95c7-4a49ca1836f2",
   "metadata": {},
   "outputs": [
    {
     "data": {
      "application/vnd.jupyter.widget-view+json": {
       "model_id": "65784a61a67e45b995132747405b2385",
       "version_major": 2,
       "version_minor": 0
      },
      "text/plain": []
     },
     "metadata": {},
     "output_type": "display_data"
    }
   ],
   "source": [
    "import time\n",
    "\n",
    "import nglview\n",
    "from openff.toolkit import ForceField, Molecule, Topology\n",
    "from openff.units import unit\n",
    "\n",
    "from openff.interchange import Interchange\n",
    "from openff.interchange.components._packmol import UNIT_CUBE, pack_box\n",
    "from openff.interchange.drivers import get_summary_data\n",
    "\n",
    "import openmm\n",
    "import openmm.app\n",
    "import openmm.unit\n",
    "\n",
    "import numpy\n",
    "\n",
    "import mdtraj\n",
    "\n",
    "from openpharmmdflow import from_cif"
   ]
  },
  {
   "cell_type": "code",
   "execution_count": 4,
   "id": "df66a064-d02f-4b5c-9c99-87733ec52dc0",
   "metadata": {},
   "outputs": [
    {
     "name": "stderr",
     "output_type": "stream",
     "text": [
      "1 molecule converted\n"
     ]
    },
    {
     "data": {
      "image/svg+xml": [
       "<svg xmlns=\"http://www.w3.org/2000/svg\" xmlns:rdkit=\"http://www.rdkit.org/xml\" xmlns:xlink=\"http://www.w3.org/1999/xlink\" version=\"1.1\" baseProfile=\"full\" xml:space=\"preserve\" width=\"500px\" height=\"300px\" viewBox=\"0 0 500 300\">\n",
       "<!-- END OF HEADER -->\n",
       "<rect style=\"opacity:1.0;fill:#FFFFFF;stroke:none\" width=\"500.0\" height=\"300.0\" x=\"0.0\" y=\"0.0\"> </rect>\n",
       "<path class=\"bond-0 atom-0 atom-17\" d=\"M 275.6,180.6 L 255.2,192.5\" style=\"fill:none;fill-rule:evenodd;stroke:#000000;stroke-width:2.0px;stroke-linecap:butt;stroke-linejoin:miter;stroke-opacity:1\"/>\n",
       "<path class=\"bond-0 atom-0 atom-17\" d=\"M 255.2,192.5 L 234.9,204.4\" style=\"fill:none;fill-rule:evenodd;stroke:#0000FF;stroke-width:2.0px;stroke-linecap:butt;stroke-linejoin:miter;stroke-opacity:1\"/>\n",
       "<path class=\"bond-1 atom-0 atom-5\" d=\"M 275.6,180.6 L 328.4,210.9\" style=\"fill:none;fill-rule:evenodd;stroke:#000000;stroke-width:2.0px;stroke-linecap:butt;stroke-linejoin:miter;stroke-opacity:1\"/>\n",
       "<path class=\"bond-1 atom-0 atom-5\" d=\"M 284.7,175.3 L 328.4,200.3\" style=\"fill:none;fill-rule:evenodd;stroke:#000000;stroke-width:2.0px;stroke-linecap:butt;stroke-linejoin:miter;stroke-opacity:1\"/>\n",
       "<path class=\"bond-2 atom-1 atom-0\" d=\"M 275.4,119.8 L 275.6,180.6\" style=\"fill:none;fill-rule:evenodd;stroke:#000000;stroke-width:2.0px;stroke-linecap:butt;stroke-linejoin:miter;stroke-opacity:1\"/>\n",
       "<path class=\"bond-3 atom-2 atom-1\" d=\"M 328.0,89.1 L 275.4,119.8\" style=\"fill:none;fill-rule:evenodd;stroke:#000000;stroke-width:2.0px;stroke-linecap:butt;stroke-linejoin:miter;stroke-opacity:1\"/>\n",
       "<path class=\"bond-3 atom-2 atom-1\" d=\"M 328.0,99.7 L 284.6,125.0\" style=\"fill:none;fill-rule:evenodd;stroke:#000000;stroke-width:2.0px;stroke-linecap:butt;stroke-linejoin:miter;stroke-opacity:1\"/>\n",
       "<path class=\"bond-4 atom-2 atom-3\" d=\"M 328.0,89.1 L 380.8,119.4\" style=\"fill:none;fill-rule:evenodd;stroke:#000000;stroke-width:2.0px;stroke-linecap:butt;stroke-linejoin:miter;stroke-opacity:1\"/>\n",
       "<path class=\"bond-5 atom-3 atom-4\" d=\"M 380.8,119.4 L 381.0,180.2\" style=\"fill:none;fill-rule:evenodd;stroke:#000000;stroke-width:2.0px;stroke-linecap:butt;stroke-linejoin:miter;stroke-opacity:1\"/>\n",
       "<path class=\"bond-5 atom-3 atom-4\" d=\"M 371.7,124.7 L 371.9,175.0\" style=\"fill:none;fill-rule:evenodd;stroke:#000000;stroke-width:2.0px;stroke-linecap:butt;stroke-linejoin:miter;stroke-opacity:1\"/>\n",
       "<path class=\"bond-6 atom-4 atom-5\" d=\"M 381.0,180.2 L 328.4,210.9\" style=\"fill:none;fill-rule:evenodd;stroke:#000000;stroke-width:2.0px;stroke-linecap:butt;stroke-linejoin:miter;stroke-opacity:1\"/>\n",
       "<path class=\"bond-7 atom-4 atom-10\" d=\"M 381.0,180.2 L 421.7,203.5\" style=\"fill:none;fill-rule:evenodd;stroke:#000000;stroke-width:2.0px;stroke-linecap:butt;stroke-linejoin:miter;stroke-opacity:1\"/>\n",
       "<path class=\"bond-8 atom-5 atom-11\" d=\"M 328.4,210.9 L 328.6,256.8\" style=\"fill:none;fill-rule:evenodd;stroke:#000000;stroke-width:2.0px;stroke-linecap:butt;stroke-linejoin:miter;stroke-opacity:1\"/>\n",
       "<path class=\"bond-9 atom-6 atom-7\" d=\"M 170.2,181.0 L 117.7,211.6\" style=\"fill:none;fill-rule:evenodd;stroke:#000000;stroke-width:2.0px;stroke-linecap:butt;stroke-linejoin:miter;stroke-opacity:1\"/>\n",
       "<path class=\"bond-10 atom-6 atom-17\" d=\"M 170.2,181.0 L 190.7,192.7\" style=\"fill:none;fill-rule:evenodd;stroke:#000000;stroke-width:2.0px;stroke-linecap:butt;stroke-linejoin:miter;stroke-opacity:1\"/>\n",
       "<path class=\"bond-10 atom-6 atom-17\" d=\"M 190.7,192.7 L 211.2,204.5\" style=\"fill:none;fill-rule:evenodd;stroke:#0000FF;stroke-width:2.0px;stroke-linecap:butt;stroke-linejoin:miter;stroke-opacity:1\"/>\n",
       "<path class=\"bond-11 atom-7 atom-15\" d=\"M 117.7,211.6 L 139.6,249.3\" style=\"fill:none;fill-rule:evenodd;stroke:#000000;stroke-width:2.0px;stroke-linecap:butt;stroke-linejoin:miter;stroke-opacity:1\"/>\n",
       "<path class=\"bond-12 atom-7 atom-14\" d=\"M 117.7,211.6 L 96.0,249.5\" style=\"fill:none;fill-rule:evenodd;stroke:#000000;stroke-width:2.0px;stroke-linecap:butt;stroke-linejoin:miter;stroke-opacity:1\"/>\n",
       "<path class=\"bond-13 atom-8 atom-1\" d=\"M 234.7,96.5 L 275.4,119.8\" style=\"fill:none;fill-rule:evenodd;stroke:#000000;stroke-width:2.0px;stroke-linecap:butt;stroke-linejoin:miter;stroke-opacity:1\"/>\n",
       "<path class=\"bond-14 atom-9 atom-2\" d=\"M 327.8,43.2 L 328.0,89.1\" style=\"fill:none;fill-rule:evenodd;stroke:#000000;stroke-width:2.0px;stroke-linecap:butt;stroke-linejoin:miter;stroke-opacity:1\"/>\n",
       "<path class=\"bond-15 atom-16 atom-7\" d=\"M 77.0,188.3 L 117.7,211.6\" style=\"fill:none;fill-rule:evenodd;stroke:#000000;stroke-width:2.0px;stroke-linecap:butt;stroke-linejoin:miter;stroke-opacity:1\"/>\n",
       "<path class=\"bond-16 atom-17 atom-13\" d=\"M 223.1,226.2 L 223.2,241.7\" style=\"fill:none;fill-rule:evenodd;stroke:#0000FF;stroke-width:2.0px;stroke-linecap:butt;stroke-linejoin:miter;stroke-opacity:1\"/>\n",
       "<path class=\"bond-16 atom-17 atom-13\" d=\"M 223.2,241.7 L 223.2,257.1\" style=\"fill:none;fill-rule:evenodd;stroke:#000000;stroke-width:2.0px;stroke-linecap:butt;stroke-linejoin:miter;stroke-opacity:1\"/>\n",
       "<path class=\"bond-17 atom-18 atom-12\" d=\"M 433.3,73.7 L 433.3,58.3\" style=\"fill:none;fill-rule:evenodd;stroke:#FF0000;stroke-width:2.0px;stroke-linecap:butt;stroke-linejoin:miter;stroke-opacity:1\"/>\n",
       "<path class=\"bond-17 atom-18 atom-12\" d=\"M 433.3,58.3 L 433.2,42.9\" style=\"fill:none;fill-rule:evenodd;stroke:#000000;stroke-width:2.0px;stroke-linecap:butt;stroke-linejoin:miter;stroke-opacity:1\"/>\n",
       "<path class=\"bond-18 atom-18 atom-3\" d=\"M 419.5,96.9 L 400.2,108.1\" style=\"fill:none;fill-rule:evenodd;stroke:#FF0000;stroke-width:2.0px;stroke-linecap:butt;stroke-linejoin:miter;stroke-opacity:1\"/>\n",
       "<path class=\"bond-18 atom-18 atom-3\" d=\"M 400.2,108.1 L 380.8,119.4\" style=\"fill:none;fill-rule:evenodd;stroke:#000000;stroke-width:2.0px;stroke-linecap:butt;stroke-linejoin:miter;stroke-opacity:1\"/>\n",
       "<path class=\"bond-19 atom-19 atom-6\" d=\"M 174.6,135.6 L 174.7,159.6\" style=\"fill:none;fill-rule:evenodd;stroke:#FF0000;stroke-width:2.0px;stroke-linecap:butt;stroke-linejoin:miter;stroke-opacity:1\"/>\n",
       "<path class=\"bond-19 atom-19 atom-6\" d=\"M 174.7,159.6 L 174.8,183.6\" style=\"fill:none;fill-rule:evenodd;stroke:#000000;stroke-width:2.0px;stroke-linecap:butt;stroke-linejoin:miter;stroke-opacity:1\"/>\n",
       "<path class=\"bond-19 atom-19 atom-6\" d=\"M 165.5,135.6 L 165.6,159.6\" style=\"fill:none;fill-rule:evenodd;stroke:#FF0000;stroke-width:2.0px;stroke-linecap:butt;stroke-linejoin:miter;stroke-opacity:1\"/>\n",
       "<path class=\"bond-19 atom-19 atom-6\" d=\"M 165.6,159.6 L 165.7,183.6\" style=\"fill:none;fill-rule:evenodd;stroke:#000000;stroke-width:2.0px;stroke-linecap:butt;stroke-linejoin:miter;stroke-opacity:1\"/>\n",
       "<path d=\"M 167.6,182.5 L 170.2,181.0 L 171.3,181.6\" style=\"fill:none;stroke:#000000;stroke-width:2.0px;stroke-linecap:butt;stroke-linejoin:miter;stroke-opacity:1;\"/>\n",
       "<path class=\"atom-8\" d=\"M 212.5 76.6 L 216.0 76.6 L 216.0 87.6 L 229.2 87.6 L 229.2 76.6 L 232.7 76.6 L 232.7 102.5 L 229.2 102.5 L 229.2 90.5 L 216.0 90.5 L 216.0 102.5 L 212.5 102.5 L 212.5 76.6 \" fill=\"#000000\"/>\n",
       "<path class=\"atom-9\" d=\"M 317.7 15.4 L 321.2 15.4 L 321.2 26.4 L 334.4 26.4 L 334.4 15.4 L 337.9 15.4 L 337.9 41.2 L 334.4 41.2 L 334.4 29.3 L 321.2 29.3 L 321.2 41.2 L 317.7 41.2 L 317.7 15.4 \" fill=\"#000000\"/>\n",
       "<path class=\"atom-10\" d=\"M 423.7 197.5 L 427.2 197.5 L 427.2 208.5 L 440.5 208.5 L 440.5 197.5 L 444.0 197.5 L 444.0 223.4 L 440.5 223.4 L 440.5 211.5 L 427.2 211.5 L 427.2 223.4 L 423.7 223.4 L 423.7 197.5 \" fill=\"#000000\"/>\n",
       "<path class=\"atom-11\" d=\"M 318.5 258.8 L 322.1 258.8 L 322.1 269.8 L 335.3 269.8 L 335.3 258.8 L 338.8 258.8 L 338.8 284.6 L 335.3 284.6 L 335.3 272.7 L 322.1 272.7 L 322.1 284.6 L 318.5 284.6 L 318.5 258.8 \" fill=\"#000000\"/>\n",
       "<path class=\"atom-12\" d=\"M 423.1 15.0 L 426.6 15.0 L 426.6 26.0 L 439.8 26.0 L 439.8 15.0 L 443.3 15.0 L 443.3 40.8 L 439.8 40.8 L 439.8 28.9 L 426.6 28.9 L 426.6 40.8 L 423.1 40.8 L 423.1 15.0 \" fill=\"#000000\"/>\n",
       "<path class=\"atom-13\" d=\"M 213.2 259.2 L 216.7 259.2 L 216.7 270.1 L 229.9 270.1 L 229.9 259.2 L 233.4 259.2 L 233.4 285.0 L 229.9 285.0 L 229.9 273.1 L 216.7 273.1 L 216.7 285.0 L 213.2 285.0 L 213.2 259.2 \" fill=\"#000000\"/>\n",
       "<path class=\"atom-14\" d=\"M 77.3 251.5 L 80.8 251.5 L 80.8 262.5 L 94.0 262.5 L 94.0 251.5 L 97.5 251.5 L 97.5 277.3 L 94.0 277.3 L 94.0 265.4 L 80.8 265.4 L 80.8 277.3 L 77.3 277.3 L 77.3 251.5 \" fill=\"#000000\"/>\n",
       "<path class=\"atom-15\" d=\"M 138.2 251.3 L 141.7 251.3 L 141.7 262.3 L 154.9 262.3 L 154.9 251.3 L 158.4 251.3 L 158.4 277.1 L 154.9 277.1 L 154.9 265.2 L 141.7 265.2 L 141.7 277.1 L 138.2 277.1 L 138.2 251.3 \" fill=\"#000000\"/>\n",
       "<path class=\"atom-16\" d=\"M 54.7 168.4 L 58.2 168.4 L 58.2 179.4 L 71.5 179.4 L 71.5 168.4 L 75.0 168.4 L 75.0 194.3 L 71.5 194.3 L 71.5 182.4 L 58.2 182.4 L 58.2 194.3 L 54.7 194.3 L 54.7 168.4 \" fill=\"#000000\"/>\n",
       "<path class=\"atom-17\" d=\"M 217.3 198.3 L 225.8 212.0 Q 226.6 213.4, 228.0 215.8 Q 229.3 218.2, 229.4 218.4 L 229.4 198.3 L 232.9 198.3 L 232.9 224.2 L 229.3 224.2 L 220.2 209.2 Q 219.2 207.4, 218.0 205.4 Q 216.9 203.4, 216.6 202.8 L 216.6 224.2 L 213.2 224.2 L 213.2 198.3 L 217.3 198.3 \" fill=\"#0000FF\"/>\n",
       "<path class=\"atom-18\" d=\"M 421.5 88.8 Q 421.5 82.6, 424.6 79.2 Q 427.7 75.7, 433.4 75.7 Q 439.1 75.7, 442.2 79.2 Q 445.3 82.6, 445.3 88.8 Q 445.3 95.1, 442.2 98.7 Q 439.1 102.2, 433.4 102.2 Q 427.7 102.2, 424.6 98.7 Q 421.5 95.2, 421.5 88.8 M 433.4 99.3 Q 437.3 99.3, 439.5 96.7 Q 441.6 94.0, 441.6 88.8 Q 441.6 83.8, 439.5 81.2 Q 437.3 78.6, 433.4 78.6 Q 429.5 78.6, 427.3 81.2 Q 425.2 83.7, 425.2 88.8 Q 425.2 94.1, 427.3 96.7 Q 429.5 99.3, 433.4 99.3 \" fill=\"#FF0000\"/>\n",
       "<path class=\"atom-19\" d=\"M 158.2 120.2 Q 158.2 114.0, 161.2 110.5 Q 164.3 107.1, 170.0 107.1 Q 175.8 107.1, 178.8 110.5 Q 181.9 114.0, 181.9 120.2 Q 181.9 126.5, 178.8 130.1 Q 175.7 133.6, 170.0 133.6 Q 164.3 133.6, 161.2 130.1 Q 158.2 126.5, 158.2 120.2 M 170.0 130.7 Q 174.0 130.7, 176.1 128.1 Q 178.2 125.4, 178.2 120.2 Q 178.2 115.1, 176.1 112.6 Q 174.0 110.0, 170.0 110.0 Q 166.1 110.0, 163.9 112.5 Q 161.8 115.1, 161.8 120.2 Q 161.8 125.4, 163.9 128.1 Q 166.1 130.7, 170.0 130.7 \" fill=\"#FF0000\"/>\n",
       "</svg>"
      ],
      "text/plain": [
       "<IPython.core.display.SVG object>"
      ]
     },
     "execution_count": 4,
     "metadata": {},
     "output_type": "execute_result"
    }
   ],
   "source": [
    "molecules = from_cif(\"../../inputs/small_molecule/HXACAN.cif\")\n",
    "# make bespoke ff from molecule(s)\n",
    "molecules.visualize()"
   ]
  },
  {
   "cell_type": "code",
   "execution_count": null,
   "id": "d6ba5e01-aac8-463e-8037-46236295e113",
   "metadata": {},
   "outputs": [],
   "source": []
  },
  {
   "cell_type": "code",
   "execution_count": 5,
   "id": "07286be9-3a87-48f8-8218-c74f23a47017",
   "metadata": {},
   "outputs": [],
   "source": [
    "topology = pack_box(\n",
    "    molecules=[molecules],\n",
    "    number_of_copies=[200],\n",
    "    target_density=850 * unit.kilogram / unit.meter**3,\n",
    "    box_shape=UNIT_CUBE,\n",
    ")\n",
    "# small mol\n",
    "# slab (xstal with given face exposed z, xy pbc, what to \"fill\" z plane at given density, no fractional mols (if com is inside slab, generate)\n",
    "# specify mol, unit cel parms,\n",
    "# for csp, you don't want the xstal to force the mol into a confirmation\n",
    "# pymatgen, atomic simulation env (ase)\n",
    "# bio\n",
    "# prevent overlaps with solvent, large enough box\n",
    "# build/pack at low density and shrink to desired density (don't simulate protien during shrink)"
   ]
  },
  {
   "cell_type": "code",
   "execution_count": 6,
   "id": "46d0b440-6ed5-4dbc-8aab-c4c39b1e7521",
   "metadata": {},
   "outputs": [
    {
     "data": {
      "application/vnd.jupyter.widget-view+json": {
       "model_id": "ffd16192a2144cb2a3e118dc48a58e5e",
       "version_major": 2,
       "version_minor": 0
      },
      "text/plain": [
       "NGLWidget()"
      ]
     },
     "metadata": {},
     "output_type": "display_data"
    }
   ],
   "source": [
    "topology.to_file(\"system.pdb\")\n",
    "nglview.show_structure_file(\"system.pdb\")"
   ]
  },
  {
   "cell_type": "code",
   "execution_count": 7,
   "id": "7de4eb9e-1760-4e6b-8360-0afbaca26ebc",
   "metadata": {},
   "outputs": [],
   "source": [
    "force_field = ForceField(\"openff_unconstrained-2.1.0.offxml\")\n",
    "# this can be a path to a bespoke ff\n",
    "# can we read a lammps ff? gromacs?\n",
    "interchange = Interchange.from_smirnoff(force_field=force_field, topology=topology)"
   ]
  },
  {
   "cell_type": "code",
   "execution_count": 9,
   "id": "7911c3f5-c070-49ad-97ac-3b9b6e721c37",
   "metadata": {},
   "outputs": [
    {
     "data": {
      "application/vnd.jupyter.widget-view+json": {
       "model_id": "32e53db228ac4867bc3a389d58d66df9",
       "version_major": 2,
       "version_minor": 0
      },
      "text/plain": [
       "NGLWidget()"
      ]
     },
     "metadata": {},
     "output_type": "display_data"
    }
   ],
   "source": [
    "interchange.visualize(\"nglview\")"
   ]
  },
  {
   "cell_type": "code",
   "execution_count": 10,
   "id": "2aee9562-afce-4f5e-bddd-1d9464615e32",
   "metadata": {},
   "outputs": [
    {
     "data": {
      "text/html": [
       "<div>\n",
       "<style scoped>\n",
       "    .dataframe tbody tr th:only-of-type {\n",
       "        vertical-align: middle;\n",
       "    }\n",
       "\n",
       "    .dataframe tbody tr th {\n",
       "        vertical-align: top;\n",
       "    }\n",
       "\n",
       "    .dataframe thead th {\n",
       "        text-align: right;\n",
       "    }\n",
       "</style>\n",
       "<table border=\"1\" class=\"dataframe\">\n",
       "  <thead>\n",
       "    <tr style=\"text-align: right;\">\n",
       "      <th></th>\n",
       "      <th>Angle</th>\n",
       "      <th>Bond</th>\n",
       "      <th>Electrostatics</th>\n",
       "      <th>Torsion</th>\n",
       "      <th>vdW</th>\n",
       "    </tr>\n",
       "  </thead>\n",
       "  <tbody>\n",
       "    <tr>\n",
       "      <th>OpenMM</th>\n",
       "      <td>5192.952296</td>\n",
       "      <td>84017.472182</td>\n",
       "      <td>-52690.02539</td>\n",
       "      <td>4006.264332</td>\n",
       "      <td>60051.961318</td>\n",
       "    </tr>\n",
       "  </tbody>\n",
       "</table>\n",
       "</div>"
      ],
      "text/plain": [
       "              Angle          Bond  Electrostatics      Torsion           vdW\n",
       "OpenMM  5192.952296  84017.472182    -52690.02539  4006.264332  60051.961318"
      ]
     },
     "execution_count": 10,
     "metadata": {},
     "output_type": "execute_result"
    }
   ],
   "source": [
    "# get_summary_data(interchange, _engines=[\"OpenMM\", \"GROMACS\", \"Amber\")\n",
    "get_summary_data(\n",
    "    interchange,\n",
    "    _engines=[\n",
    "        \"OpenMM\",\n",
    "    ],\n",
    ")"
   ]
  },
  {
   "cell_type": "code",
   "execution_count": 11,
   "id": "8e5b4a96-8feb-48ac-9519-fdf43e009145",
   "metadata": {},
   "outputs": [],
   "source": [
    "def create_simulation(\n",
    "    interchange: Interchange,\n",
    "    pdb_stride: int = 500,\n",
    "    trajectory_name: str = \"trajectory.pdb\",\n",
    ") -> openmm.app.Simulation:\n",
    "    integrator = openmm.LangevinIntegrator(\n",
    "        300 * openmm.unit.kelvin,\n",
    "        1 / openmm.unit.picosecond,\n",
    "        1 * openmm.unit.femtoseconds,\n",
    "    )\n",
    "\n",
    "    barostat = openmm.MonteCarloBarostat(\n",
    "        1.0 * openmm.unit.bar, 293.15 * openmm.unit.kelvin, 25\n",
    "    )\n",
    "\n",
    "    simulation = interchange.to_openmm_simulation(\n",
    "        combine_nonbonded_forces=True,\n",
    "        integrator=integrator,\n",
    "    )\n",
    "\n",
    "    simulation.system.addForce(barostat)\n",
    "\n",
    "    # https://github.com/openmm/openmm/wiki/Frequently-Asked-Questions#why-does-it-ignore-changes-i-make-to-a-system-or-force\n",
    "    simulation.context.reinitialize(preserveState=True)\n",
    "\n",
    "    # https://github.com/openmm/openmm/issues/3736#issuecomment-1217250635\n",
    "    simulation.minimizeEnergy()\n",
    "\n",
    "    simulation.context.setVelocitiesToTemperature(300 * openmm.unit.kelvin)\n",
    "    simulation.context.computeVirtualSites()\n",
    "\n",
    "    pdb_reporter = openmm.app.PDBReporter(trajectory_name, pdb_stride)\n",
    "    state_data_reporter = openmm.app.StateDataReporter(\n",
    "        \"data.csv\",\n",
    "        10,\n",
    "        step=True,\n",
    "        potentialEnergy=True,\n",
    "        temperature=True,\n",
    "        density=True,\n",
    "    )\n",
    "    simulation.reporters.append(pdb_reporter)\n",
    "    simulation.reporters.append(state_data_reporter)\n",
    "\n",
    "    return simulation\n",
    "\n",
    "\n",
    "def run_simulation(simulation: openmm.app.Simulation, n_steps: int = 5000):\n",
    "    print(\"Starting simulation\")\n",
    "    start_time = time.process_time()\n",
    "\n",
    "    print(\"Step, volume (nm^3)\")\n",
    "\n",
    "    for step in range(n_steps):\n",
    "        simulation.step(1)\n",
    "        if step % 500 == 0:\n",
    "            box_vectors = simulation.context.getState().getPeriodicBoxVectors()\n",
    "            print(step, numpy.linalg.det(box_vectors._value).round(3))\n",
    "\n",
    "    end_time = time.process_time()\n",
    "    print(f\"Elapsed time: {(end_time - start_time):.2f} seconds\")"
   ]
  },
  {
   "cell_type": "code",
   "execution_count": 12,
   "id": "f2561883-eecc-4817-8456-c06c554a32f3",
   "metadata": {},
   "outputs": [],
   "source": [
    "simulation = create_simulation(interchange)"
   ]
  },
  {
   "cell_type": "code",
   "execution_count": 13,
   "id": "9ffa4971-95c1-4ddc-88a8-c71e2b4a87d6",
   "metadata": {},
   "outputs": [
    {
     "name": "stdout",
     "output_type": "stream",
     "text": [
      "Starting simulation\n",
      "Step, volume (nm^3)\n",
      "0 59.062\n",
      "500 58.737\n",
      "1000 56.49\n",
      "1500 55.349\n",
      "2000 53.279\n",
      "2500 52.666\n",
      "3000 52.193\n",
      "3500 51.469\n",
      "4000 50.571\n",
      "4500 49.559\n",
      "Elapsed time: 1.43 seconds\n"
     ]
    }
   ],
   "source": [
    "run_simulation(simulation)"
   ]
  },
  {
   "cell_type": "code",
   "execution_count": 14,
   "id": "3dcf8d94-ee5e-4424-ab64-7624ba6b7a2c",
   "metadata": {},
   "outputs": [
    {
     "data": {
      "application/vnd.jupyter.widget-view+json": {
       "model_id": "7ac7a2c2ec044b2d879d21679bd8ff9a",
       "version_major": 2,
       "version_minor": 0
      },
      "text/plain": [
       "NGLWidget(max_frame=9)"
      ]
     },
     "metadata": {},
     "output_type": "display_data"
    }
   ],
   "source": [
    "view = nglview.show_mdtraj(mdtraj.load(\"trajectory.pdb\"))\n",
    "view"
   ]
  },
  {
   "cell_type": "code",
   "execution_count": null,
   "id": "e4f20d7f-9f95-47b2-823f-41b9b55d98d6",
   "metadata": {},
   "outputs": [],
   "source": []
  }
 ],
 "metadata": {
  "kernelspec": {
   "display_name": "Python 3 (ipykernel)",
   "language": "python",
   "name": "python3"
  },
  "language_info": {
   "codemirror_mode": {
    "name": "ipython",
    "version": 3
   },
   "file_extension": ".py",
   "mimetype": "text/x-python",
   "name": "python",
   "nbconvert_exporter": "python",
   "pygments_lexer": "ipython3",
   "version": "3.11.10"
  }
 },
 "nbformat": 4,
 "nbformat_minor": 5
}
