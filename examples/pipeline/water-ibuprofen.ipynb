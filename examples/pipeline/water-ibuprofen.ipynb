{
 "cells": [
  {
   "cell_type": "code",
   "execution_count": 1,
   "id": "dc318888-cbff-411c-8e45-f6cbdac78c9c",
   "metadata": {
    "execution": {
     "iopub.execute_input": "2025-07-21T12:35:41.572872Z",
     "iopub.status.busy": "2025-07-21T12:35:41.572526Z",
     "iopub.status.idle": "2025-07-21T12:35:43.716543Z",
     "shell.execute_reply": "2025-07-21T12:35:43.716016Z",
     "shell.execute_reply.started": "2025-07-21T12:35:41.572839Z"
    }
   },
   "outputs": [
    {
     "data": {
      "application/vnd.jupyter.widget-view+json": {
       "model_id": "b7be3b7ebf1843eeb2c14315f12f521d",
       "version_major": 2,
       "version_minor": 0
      },
      "text/plain": []
     },
     "metadata": {},
     "output_type": "display_data"
    },
    {
     "name": "stderr",
     "output_type": "stream",
     "text": [
      "/home/mmh/micromamba/envs/opmdf-ubuntu-latest-bespokefit-false/lib/python3.12/site-packages/nglview/__init__.py:12: UserWarning: pkg_resources is deprecated as an API. See https://setuptools.pypa.io/en/latest/pkg_resources.html. The pkg_resources package is slated for removal as early as 2025-11-30. Refrain from using this package or pin to Setuptools<81.\n",
      "  import pkg_resources\n"
     ]
    }
   ],
   "source": [
    "from openff.toolkit import ForceField, Molecule, unit\n",
    "from openff.interchange.components._packmol import UNIT_CUBE, pack_box\n",
    "from copy import deepcopy\n",
    "import nglview\n",
    "import mdtraj\n",
    "import numpy as np\n",
    "from openff.interchange import Interchange\n",
    "import openmm\n",
    "import openmm.app\n",
    "import openmm.unit\n",
    "import time"
   ]
  },
  {
   "cell_type": "markdown",
   "id": "a4dc4558-0d2c-41e4-8b70-3bd87e60b0d8",
   "metadata": {},
   "source": [
    "Define molecules, mapped smiles are useful so the index stays the same"
   ]
  },
  {
   "cell_type": "code",
   "execution_count": 2,
   "id": "67fda39f-15db-4c78-b3db-abd1b320754a",
   "metadata": {
    "execution": {
     "iopub.execute_input": "2025-07-21T12:35:43.717258Z",
     "iopub.status.busy": "2025-07-21T12:35:43.716954Z",
     "iopub.status.idle": "2025-07-21T12:35:43.719917Z",
     "shell.execute_reply": "2025-07-21T12:35:43.719427Z",
     "shell.execute_reply.started": "2025-07-21T12:35:43.717242Z"
    }
   },
   "outputs": [],
   "source": [
    "ibuprofen_smiles = \"[C:1]([C:2]([C:3]([H:20])([H:21])[H:22])([C:4]([c:5]1[c:6]([H:25])[c:7]([H:26])[c:8]([C@@:11]([C:12]([H:30])([H:31])[H:32])([C:13](=[O:14])[O:15][H:33])[H:29])[c:9]([H:27])[c:10]1[H:28])([H:23])[H:24])[H:19])([H:16])([H:17])[H:18]\"\n",
    "water_smiles = \"[H:2][O:1][H:3]\""
   ]
  },
  {
   "cell_type": "markdown",
   "id": "244f5bc1-9e51-4fb7-9b1c-39cd69454436",
   "metadata": {},
   "source": [
    "Create the water molecule and add some metadata to make the viz better"
   ]
  },
  {
   "cell_type": "code",
   "execution_count": 3,
   "id": "c5d4d782-42bd-4d85-8449-325e0219b095",
   "metadata": {
    "execution": {
     "iopub.execute_input": "2025-07-21T12:35:43.722193Z",
     "iopub.status.busy": "2025-07-21T12:35:43.722036Z",
     "iopub.status.idle": "2025-07-21T12:35:43.775481Z",
     "shell.execute_reply": "2025-07-21T12:35:43.775030Z",
     "shell.execute_reply.started": "2025-07-21T12:35:43.722179Z"
    }
   },
   "outputs": [],
   "source": [
    "water = Molecule.from_mapped_smiles(water_smiles)\n",
    "water.generate_conformers(n_conformers=1)\n",
    "for atom in water.atoms:\n",
    "    atom.metadata[\"residue_name\"] = \"HOH\""
   ]
  },
  {
   "cell_type": "markdown",
   "id": "a2cd7a09-d73a-4c4e-846f-95a4547b1cc9",
   "metadata": {},
   "source": [
    "Create the ibuprofen molecule"
   ]
  },
  {
   "cell_type": "code",
   "execution_count": 4,
   "id": "fac5fbf1-9ed6-4725-9283-d1d103cd32dc",
   "metadata": {
    "execution": {
     "iopub.execute_input": "2025-07-21T12:36:25.193838Z",
     "iopub.status.busy": "2025-07-21T12:36:25.193231Z",
     "iopub.status.idle": "2025-07-21T12:36:25.244330Z",
     "shell.execute_reply": "2025-07-21T12:36:25.243586Z",
     "shell.execute_reply.started": "2025-07-21T12:36:25.193693Z"
    }
   },
   "outputs": [],
   "source": [
    "ibuprofen = Molecule.from_mapped_smiles(ibuprofen_smiles)\n",
    "ibuprofen.generate_conformers(n_conformers=1)"
   ]
  },
  {
   "cell_type": "markdown",
   "id": "4603af42-da70-4838-994a-93e5124fbe4c",
   "metadata": {},
   "source": [
    "Create a box of 500 ibuprofen molecules at a density of 1.2 grams per cubic centimeter"
   ]
  },
  {
   "cell_type": "code",
   "execution_count": 5,
   "id": "ee96cb76-45f0-44c0-a2d9-f9b17e02d4ea",
   "metadata": {
    "execution": {
     "iopub.execute_input": "2025-07-21T12:37:54.365307Z",
     "iopub.status.busy": "2025-07-21T12:37:54.364493Z",
     "iopub.status.idle": "2025-07-21T12:39:03.821575Z",
     "shell.execute_reply": "2025-07-21T12:39:03.821036Z",
     "shell.execute_reply.started": "2025-07-21T12:37:54.365237Z"
    }
   },
   "outputs": [],
   "source": [
    "n_ibuprofen = 500\n",
    "target_density = 1.2 * unit.gram / unit.centimetre**3\n",
    "\n",
    "topology = pack_box(\n",
    "    molecules=[ibuprofen],\n",
    "    number_of_copies=[n_ibuprofen],\n",
    "    target_density=target_density,\n",
    "    box_shape=UNIT_CUBE,\n",
    "    working_directory=\".\",\n",
    ")"
   ]
  },
  {
   "cell_type": "markdown",
   "id": "ad26622c-a3e9-466d-b77e-738353e01466",
   "metadata": {},
   "source": [
    "Visualize the box"
   ]
  },
  {
   "cell_type": "code",
   "execution_count": 6,
   "id": "37cda496-2215-4450-b310-d6ecb9f94162",
   "metadata": {
    "execution": {
     "iopub.execute_input": "2025-07-21T12:39:03.822386Z",
     "iopub.status.busy": "2025-07-21T12:39:03.822229Z",
     "iopub.status.idle": "2025-07-21T12:39:05.097212Z",
     "shell.execute_reply": "2025-07-21T12:39:05.096851Z",
     "shell.execute_reply.started": "2025-07-21T12:39:03.822371Z"
    }
   },
   "outputs": [
    {
     "data": {
      "application/vnd.jupyter.widget-view+json": {
       "model_id": "4005116d26a341fb8fa3d52429d2556b",
       "version_major": 2,
       "version_minor": 0
      },
      "text/plain": [
       "NGLWidget()"
      ]
     },
     "metadata": {},
     "output_type": "display_data"
    }
   ],
   "source": [
    "topology.to_file(\"system.pdb\")\n",
    "nglview.show_structure_file(\"system.pdb\")"
   ]
  },
  {
   "cell_type": "markdown",
   "id": "254c3b40-7cde-4c49-ae00-4600fbb5ab20",
   "metadata": {},
   "source": [
    "Now create a box of water at the same target density and size. With a little math, we can calculate the number of water molecules."
   ]
  },
  {
   "cell_type": "code",
   "execution_count": 18,
   "id": "47ddc3e3-3480-440f-b94b-5d2aedc26be5",
   "metadata": {
    "execution": {
     "iopub.execute_input": "2025-07-21T12:56:07.482716Z",
     "iopub.status.busy": "2025-07-21T12:56:07.482519Z",
     "iopub.status.idle": "2025-07-21T12:56:16.601259Z",
     "shell.execute_reply": "2025-07-21T12:56:16.600693Z",
     "shell.execute_reply.started": "2025-07-21T12:56:07.482701Z"
    }
   },
   "outputs": [],
   "source": [
    "target_density = 1.2 * unit.gram / unit.centimetre**3\n",
    "# Since we are using a cube, we can calc the vol from the length of the topo from the ibuprofen box\n",
    "box_vol = topology.box_vectors[0][0] ** 3\n",
    "mass = sum([atom.mass for atom in water.atoms])\n",
    "n_water = int(box_vol * target_density / mass)\n",
    "water_topology = pack_box(\n",
    "    molecules=[water],\n",
    "    number_of_copies=[n_water],\n",
    "    box_vectors=topology.box_vectors,\n",
    "    working_directory=\".\",\n",
    ")"
   ]
  },
  {
   "cell_type": "markdown",
   "id": "28b9694c-b688-46a9-99b3-cedfcaaa4f58",
   "metadata": {},
   "source": [
    "Now we can look at the water box,we need to configure nglview a bit so we can see the water (water is hidden by default)."
   ]
  },
  {
   "cell_type": "code",
   "execution_count": 19,
   "id": "25e91b33-b071-473e-9b92-7739823c58ef",
   "metadata": {
    "execution": {
     "iopub.execute_input": "2025-07-21T12:56:16.602245Z",
     "iopub.status.busy": "2025-07-21T12:56:16.601909Z",
     "iopub.status.idle": "2025-07-21T12:56:21.453912Z",
     "shell.execute_reply": "2025-07-21T12:56:21.453501Z",
     "shell.execute_reply.started": "2025-07-21T12:56:16.602231Z"
    }
   },
   "outputs": [
    {
     "data": {
      "application/vnd.jupyter.widget-view+json": {
       "model_id": "4296649fd940460cb74a593473f9fd00",
       "version_major": 2,
       "version_minor": 0
      },
      "text/plain": [
       "NGLWidget()"
      ]
     },
     "metadata": {},
     "output_type": "display_data"
    }
   ],
   "source": [
    "water_topology.to_file(\"system.pdb\")\n",
    "view = nglview.show_mdtraj(mdtraj.load(\"system.pdb\"))\n",
    "view.add_representation(\"licorice\", selection=\"water\")\n",
    "view"
   ]
  },
  {
   "cell_type": "markdown",
   "id": "f9468a19-d20b-43b2-b28c-b582d7e61e9a",
   "metadata": {},
   "source": [
    "Now we will combine the topology by shifting the water positions by the length of the ibuprofen box (we make a copy so if we re-run this cell, we can use the original positions). We then update the box vectors so we go from a cube to a rectangle. We then visualize the results."
   ]
  },
  {
   "cell_type": "code",
   "execution_count": 21,
   "id": "ff235533-ba76-4b73-86e4-43d68c9c49b8",
   "metadata": {
    "execution": {
     "iopub.execute_input": "2025-07-21T12:56:35.294971Z",
     "iopub.status.busy": "2025-07-21T12:56:35.294304Z",
     "iopub.status.idle": "2025-07-21T12:56:44.800454Z",
     "shell.execute_reply": "2025-07-21T12:56:44.799901Z",
     "shell.execute_reply.started": "2025-07-21T12:56:35.294914Z"
    }
   },
   "outputs": [
    {
     "data": {
      "application/vnd.jupyter.widget-view+json": {
       "model_id": "d3ccaf9c911845ccad9c9579071d7bb1",
       "version_major": 2,
       "version_minor": 0
      },
      "text/plain": [
       "NGLWidget()"
      ]
     },
     "metadata": {},
     "output_type": "display_data"
    }
   ],
   "source": [
    "water_topology_copy = deepcopy(water_topology)\n",
    "water_topology_copy.set_positions(\n",
    "    water_topology.get_positions() + topology.box_vectors[0]\n",
    ")\n",
    "combined = water_topology_copy + topology\n",
    "combined.box_vectors = topology.box_vectors * np.array(\n",
    "    [[2, 0, 0], [0, 1, 0], [0, 0, 1]]\n",
    ")\n",
    "combined.to_file(\"system.pdb\")\n",
    "view = nglview.show_mdtraj(mdtraj.load(\"system.pdb\"))\n",
    "view.add_representation(\"licorice\", selection=\"water\")\n",
    "view"
   ]
  },
  {
   "cell_type": "markdown",
   "id": "badd3b0e-1d57-4700-9754-f6aec8637a43",
   "metadata": {},
   "source": [
    "Now we create our interchange object and parameterize our system."
   ]
  },
  {
   "cell_type": "code",
   "execution_count": 22,
   "id": "029c76c6-44e8-4b77-94a6-816f8e2e411c",
   "metadata": {
    "execution": {
     "iopub.execute_input": "2025-07-21T12:57:38.725660Z",
     "iopub.status.busy": "2025-07-21T12:57:38.725474Z",
     "iopub.status.idle": "2025-07-21T12:57:53.275665Z",
     "shell.execute_reply": "2025-07-21T12:57:53.275077Z",
     "shell.execute_reply.started": "2025-07-21T12:57:38.725645Z"
    }
   },
   "outputs": [],
   "source": [
    "sage = ForceField(\"openff-2.2.1.offxml\")\n",
    "interchange = sage.create_interchange(combined)"
   ]
  },
  {
   "cell_type": "markdown",
   "id": "9ac22384-dc7f-4475-8a88-a178f7fb97b1",
   "metadata": {},
   "source": [
    "Visualize things one more time to make sure our box looks correct"
   ]
  },
  {
   "cell_type": "code",
   "execution_count": 24,
   "id": "c164db7e-66a6-4158-b93d-7ebb961eab4a",
   "metadata": {
    "execution": {
     "iopub.execute_input": "2025-07-21T12:58:26.265430Z",
     "iopub.status.busy": "2025-07-21T12:58:26.265165Z",
     "iopub.status.idle": "2025-07-21T12:58:32.456776Z",
     "shell.execute_reply": "2025-07-21T12:58:32.456247Z",
     "shell.execute_reply.started": "2025-07-21T12:58:26.265408Z"
    }
   },
   "outputs": [
    {
     "data": {
      "application/vnd.jupyter.widget-view+json": {
       "model_id": "e1baa594e25c497f9d10ecb207ca7a41",
       "version_major": 2,
       "version_minor": 0
      },
      "text/plain": [
       "NGLWidget()"
      ]
     },
     "metadata": {},
     "output_type": "display_data"
    }
   ],
   "source": [
    "interchange.visualize()"
   ]
  },
  {
   "cell_type": "markdown",
   "id": "4caa9d77-8945-47d4-b93f-2247fa793fb3",
   "metadata": {},
   "source": [
    "Create some helper functions for our simulation"
   ]
  },
  {
   "cell_type": "code",
   "execution_count": 25,
   "id": "638a2eb4-cf07-4c76-a42a-f8ed7c44a575",
   "metadata": {
    "execution": {
     "iopub.execute_input": "2025-07-21T12:58:52.256376Z",
     "iopub.status.busy": "2025-07-21T12:58:52.255576Z",
     "iopub.status.idle": "2025-07-21T12:58:52.275316Z",
     "shell.execute_reply": "2025-07-21T12:58:52.273952Z",
     "shell.execute_reply.started": "2025-07-21T12:58:52.256316Z"
    }
   },
   "outputs": [],
   "source": [
    "def create_simulation(\n",
    "    interchange: Interchange,\n",
    "    pdb_stride: int = 500,\n",
    "    trajectory_name: str = \"trajectory.pdb\",\n",
    ") -> openmm.app.Simulation:\n",
    "    integrator = openmm.LangevinMiddleIntegrator(\n",
    "        300 * openmm.unit.kelvin,\n",
    "        1 / openmm.unit.picosecond,\n",
    "        1 * openmm.unit.femtoseconds,\n",
    "    )\n",
    "\n",
    "    barostat = openmm.MonteCarloBarostat(\n",
    "        1.0 * openmm.unit.bar,\n",
    "        293.15 * openmm.unit.kelvin,\n",
    "        25,\n",
    "    )\n",
    "\n",
    "    simulation = interchange.to_openmm_simulation(\n",
    "        combine_nonbonded_forces=True,\n",
    "        integrator=integrator,\n",
    "        additional_forces=[barostat],\n",
    "    )\n",
    "\n",
    "    # https://github.com/openmm/openmm/issues/3736#issuecomment-1217250635\n",
    "    simulation.minimizeEnergy()\n",
    "\n",
    "    simulation.context.setVelocitiesToTemperature(300 * openmm.unit.kelvin)\n",
    "    simulation.context.computeVirtualSites()\n",
    "\n",
    "    pdb_reporter = openmm.app.PDBReporter(trajectory_name, pdb_stride)\n",
    "    state_data_reporter = openmm.app.StateDataReporter(\n",
    "        \"data.csv\",\n",
    "        10,\n",
    "        step=True,\n",
    "        potentialEnergy=True,\n",
    "        temperature=True,\n",
    "        density=True,\n",
    "    )\n",
    "    simulation.reporters.append(pdb_reporter)\n",
    "    simulation.reporters.append(state_data_reporter)\n",
    "\n",
    "    return simulation\n",
    "\n",
    "\n",
    "def run_simulation(simulation: openmm.app.Simulation, n_steps: int = 5000):\n",
    "    print(\"Starting simulation\")\n",
    "    start_time = time.process_time()\n",
    "\n",
    "    print(\"Step, volume (nm^3)\")\n",
    "\n",
    "    for step in range(n_steps):\n",
    "        simulation.step(1)\n",
    "        if step % 500 == 0:\n",
    "            box_vectors = simulation.context.getState().getPeriodicBoxVectors()\n",
    "            print(step, np.linalg.det(box_vectors._value).round(3))\n",
    "\n",
    "    end_time = time.process_time()\n",
    "    print(f\"Elapsed time: {(end_time - start_time):.2f} seconds\")"
   ]
  },
  {
   "cell_type": "markdown",
   "id": "dab26ccc-f2f2-42f4-8cf6-7d7eee3ecd0b",
   "metadata": {
    "execution": {
     "iopub.execute_input": "2025-07-21T12:59:07.910497Z",
     "iopub.status.busy": "2025-07-21T12:59:07.909958Z",
     "iopub.status.idle": "2025-07-21T12:59:07.918026Z",
     "shell.execute_reply": "2025-07-21T12:59:07.916692Z",
     "shell.execute_reply.started": "2025-07-21T12:59:07.910453Z"
    }
   },
   "source": [
    "Create our simulation object (which does do some minimization so it takes some time)"
   ]
  },
  {
   "cell_type": "code",
   "execution_count": 27,
   "id": "07bc4d9b-d015-4107-ae49-1b38d5589d9a",
   "metadata": {
    "execution": {
     "iopub.execute_input": "2025-07-21T13:00:06.155841Z",
     "iopub.status.busy": "2025-07-21T13:00:06.155153Z",
     "iopub.status.idle": "2025-07-21T13:00:49.348891Z",
     "shell.execute_reply": "2025-07-21T13:00:49.348463Z",
     "shell.execute_reply.started": "2025-07-21T13:00:06.155772Z"
    }
   },
   "outputs": [],
   "source": [
    "simulation = create_simulation(interchange)"
   ]
  },
  {
   "cell_type": "markdown",
   "id": "24b952da-1389-4279-8e1a-000012563bed",
   "metadata": {},
   "source": [
    "Now we run our simulation"
   ]
  },
  {
   "cell_type": "code",
   "execution_count": 29,
   "id": "fab2caff-9503-4498-9e4e-6e01fc0a8809",
   "metadata": {
    "execution": {
     "iopub.execute_input": "2025-07-21T13:01:03.443193Z",
     "iopub.status.busy": "2025-07-21T13:01:03.442927Z",
     "iopub.status.idle": "2025-07-21T13:01:12.883326Z",
     "shell.execute_reply": "2025-07-21T13:01:12.882828Z",
     "shell.execute_reply.started": "2025-07-21T13:01:03.443172Z"
    }
   },
   "outputs": [
    {
     "name": "stdout",
     "output_type": "stream",
     "text": [
      "Starting simulation\n",
      "Step, volume (nm^3)\n",
      "0 379.933\n",
      "500 392.587\n",
      "1000 406.888\n",
      "1500 409.093\n",
      "2000 416.37\n",
      "2500 419.488\n",
      "3000 420.389\n",
      "3500 420.649\n",
      "4000 421.549\n",
      "4500 421.901\n",
      "Elapsed time: 9.50 seconds\n"
     ]
    }
   ],
   "source": [
    "run_simulation(simulation)"
   ]
  },
  {
   "cell_type": "markdown",
   "id": "900356a3-469f-45cc-9f5f-985a535cfac8",
   "metadata": {},
   "source": [
    "Now we visualize the results"
   ]
  },
  {
   "cell_type": "code",
   "execution_count": 30,
   "id": "2934ce4f-ea8d-40c6-b30a-367eaaed9cbd",
   "metadata": {
    "execution": {
     "iopub.execute_input": "2025-07-21T13:01:15.416749Z",
     "iopub.status.busy": "2025-07-21T13:01:15.416124Z",
     "iopub.status.idle": "2025-07-21T13:01:26.118380Z",
     "shell.execute_reply": "2025-07-21T13:01:26.117962Z",
     "shell.execute_reply.started": "2025-07-21T13:01:15.416694Z"
    }
   },
   "outputs": [
    {
     "data": {
      "application/vnd.jupyter.widget-view+json": {
       "model_id": "d66adb652c644164adc40ab90eaaec70",
       "version_major": 2,
       "version_minor": 0
      },
      "text/plain": [
       "NGLWidget(max_frame=9)"
      ]
     },
     "metadata": {},
     "output_type": "display_data"
    }
   ],
   "source": [
    "view = nglview.show_mdtraj(mdtraj.load(\"trajectory.pdb\"))\n",
    "view.add_representation(\"licorice\", selection=\"water\")\n",
    "view"
   ]
  },
  {
   "cell_type": "code",
   "execution_count": null,
   "id": "2fe70528-1dfb-41be-bd48-abacd9593405",
   "metadata": {},
   "outputs": [],
   "source": []
  }
 ],
 "metadata": {
  "kernelspec": {
   "display_name": "Python 3 (ipykernel)",
   "language": "python",
   "name": "python3"
  },
  "language_info": {
   "codemirror_mode": {
    "name": "ipython",
    "version": 3
   },
   "file_extension": ".py",
   "mimetype": "text/x-python",
   "name": "python",
   "nbconvert_exporter": "python",
   "pygments_lexer": "ipython3",
   "version": "3.12.11"
  }
 },
 "nbformat": 4,
 "nbformat_minor": 5
}
