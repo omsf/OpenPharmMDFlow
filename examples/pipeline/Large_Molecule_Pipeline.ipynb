{
 "cells": [
  {
   "cell_type": "markdown",
   "id": "fc3ea0e8-57da-4a41-8f24-a5290beed474",
   "metadata": {},
   "source": [
    "# Large Molecule Pipeline"
   ]
  },
  {
   "cell_type": "code",
   "execution_count": 1,
   "id": "3637a8b5-067b-4956-a7ae-a1621a51feb6",
   "metadata": {},
   "outputs": [
    {
     "data": {
      "application/vnd.jupyter.widget-view+json": {
       "model_id": "bce949166c3641c5b0eb677a2de16abb",
       "version_major": 2,
       "version_minor": 0
      },
      "text/plain": []
     },
     "metadata": {},
     "output_type": "display_data"
    }
   ],
   "source": [
    "from openpharmmdflow.pipeline.sm.pipeline_settings import *\n",
    "from openpharmmdflow.pipeline.sm.pipeline import SmallMoleculePipeline\n",
    "from openff.interchange.components._packmol import UNIT_CUBE, RHOMBIC_DODECAHEDRON\n",
    "import nglview"
   ]
  },
  {
   "cell_type": "markdown",
   "id": "1631890b-e4c8-4b7d-a37f-e01d52dd2bc0",
   "metadata": {},
   "source": [
    "First we create the pipeline config settings object"
   ]
  },
  {
   "cell_type": "code",
   "execution_count": 2,
   "id": "20c72ac0-ae52-4dd1-a9d5-c7558e83932f",
   "metadata": {},
   "outputs": [],
   "source": [
    "# Any file supported by openff-toolkit or cif\n",
    "input = {\n",
    "    \"name\": \"protein\",\n",
    "    \"path\": \"../../openpharmmdflow/tests/io/data/MCL1_no_water.pdb\",\n",
    "}\n",
    "\n",
    "sm_input = SmallMoleculePipelineInputConfig(**input)\n",
    "\n",
    "settings = {\n",
    "    # Not used right now\n",
    "    \"work_dir\": \"/home/mmh/Projects/OpenPharmMDFlow/experiments/sm/scratch\",\n",
    "    \"inputs\": sm_input,\n",
    "    \"prep_config\": SmallMoleculePipelinePrepConfig(\n",
    "        bespokefit_config=BespokefitConfig(\n",
    "            bespoke_workflow_factory_config=BespokeWorkflowFactoryConfig(),\n",
    "            bespoke_executor_config=BespokeExecutorConfig(),\n",
    "            mol_to_bespoke=\"protein\",\n",
    "        )\n",
    "    ),\n",
    "    \"pack_config\": SmallMoleculePipelinePackConfig(\n",
    "        molecule_names=[\"protein\"], number_of_copies=[3], target_density=0.1\n",
    "    ),\n",
    "    \"parameterize_config\": SmallMoleculePipelineParameterizeConfig(\n",
    "        force_field=\"ff14sb_off_impropers_0.0.3.offxml\"\n",
    "    ),\n",
    "    \"simulate_config\": SmallMoleculePipelineSimulateConfig(),\n",
    "    \"analyze_config\": SmallMoleculePipelineAnalyzeConfig(),\n",
    "    \"solvate_config\": SmallMoleculePipelineSolvateConfig(\n",
    "        nacl_conc=Quantity(0.1, \"mole / liter\"),\n",
    "        padding=Quantity(1.2, \"nanometer\"),\n",
    "        box_shape=RHOMBIC_DODECAHEDRON,\n",
    "        target_density=Quantity(0.9, \"gram / milliliter\"),\n",
    "        tolerance=Quantity(2.0, \"angstrom\"),\n",
    "    ),\n",
    "}\n",
    "sm_config = SmallMoleculePipelineConfig(**settings)"
   ]
  },
  {
   "cell_type": "code",
   "execution_count": null,
   "id": "4dde2bd8-60e6-487b-894d-1bece4ae4d17",
   "metadata": {},
   "outputs": [],
   "source": []
  },
  {
   "cell_type": "markdown",
   "id": "d1ceb998-3b82-493b-a4d1-e0cc2b3a5d13",
   "metadata": {},
   "source": [
    "## Now we can create our pipeline object"
   ]
  },
  {
   "cell_type": "code",
   "execution_count": 3,
   "id": "b85ccc8a-7913-4fcc-83fc-d6330bd6111e",
   "metadata": {},
   "outputs": [],
   "source": [
    "smp = SmallMoleculePipeline(sm_config)"
   ]
  },
  {
   "cell_type": "code",
   "execution_count": 4,
   "id": "3a96f1a8-1c8a-42f9-b865-d48eccb42e1a",
   "metadata": {},
   "outputs": [],
   "source": [
    "smp.load()"
   ]
  },
  {
   "cell_type": "markdown",
   "id": "94143026-84e6-4074-b635-82982b166da3",
   "metadata": {},
   "source": [
    "Prep will run bespoke fit"
   ]
  },
  {
   "cell_type": "code",
   "execution_count": 5,
   "id": "dc6da737-25d8-495f-94ce-fa1f7211d7f5",
   "metadata": {},
   "outputs": [],
   "source": [
    "# smp.prep()"
   ]
  },
  {
   "cell_type": "code",
   "execution_count": 6,
   "id": "f68c7e13-e24a-4d3b-bc9d-775e7ef0bb1d",
   "metadata": {},
   "outputs": [],
   "source": [
    "smp.pack()"
   ]
  },
  {
   "cell_type": "markdown",
   "id": "daa070a9-dcfc-4db4-86f4-2dbc6037f08a",
   "metadata": {},
   "source": [
    "We can view the topology"
   ]
  },
  {
   "cell_type": "code",
   "execution_count": 7,
   "id": "2e57d237-5120-4f9c-b4d5-24e2cd9e0822",
   "metadata": {},
   "outputs": [
    {
     "data": {
      "application/vnd.jupyter.widget-view+json": {
       "model_id": "36de77fd340347159ffe1b14580fdee1",
       "version_major": 2,
       "version_minor": 0
      },
      "text/plain": [
       "NGLWidget()"
      ]
     },
     "metadata": {},
     "output_type": "display_data"
    }
   ],
   "source": [
    "smp.topology.to_file(\"system.pdb\")\n",
    "nglview.show_structure_file(\"system.pdb\")"
   ]
  },
  {
   "cell_type": "code",
   "execution_count": null,
   "id": "3dd15b53-7e43-45b5-ac18-4969167eec36",
   "metadata": {},
   "outputs": [],
   "source": [
    "smp.solvate()"
   ]
  },
  {
   "cell_type": "code",
   "execution_count": null,
   "id": "2982f0b3-59fa-41cd-af07-09b7ee3e9aff",
   "metadata": {},
   "outputs": [],
   "source": [
    "smp.topology.to_file(\"system.pdb\")\n",
    "nglview.show_structure_file(\"system.pdb\")"
   ]
  },
  {
   "cell_type": "code",
   "execution_count": null,
   "id": "5cf23d74-a55e-4d03-8a9d-511c505f1c4f",
   "metadata": {},
   "outputs": [],
   "source": [
    "smp.parameterize()"
   ]
  },
  {
   "cell_type": "code",
   "execution_count": null,
   "id": "d7c2b727-1ef0-432a-be02-9c004c4d50c4",
   "metadata": {},
   "outputs": [],
   "source": [
    "smp.interchange.visualize(\"nglview\")"
   ]
  },
  {
   "cell_type": "code",
   "execution_count": 12,
   "id": "3f1fe01b-93e1-44c5-9429-ba3348d2a5af",
   "metadata": {},
   "outputs": [
    {
     "name": "stdout",
     "output_type": "stream",
     "text": [
      "start minimize\n",
      "end minimize\n",
      "Starting simulation\n",
      "Step, volume (nm^3)\n",
      "0 2223.199\n",
      "500 2188.016\n",
      "1000 2159.795\n",
      "1500 2136.043\n",
      "2000 2108.066\n",
      "2500 2098.222\n",
      "3000 2082.682\n",
      "3500 2064.235\n",
      "4000 2050.616\n",
      "4500 2039.677\n",
      "Elapsed time: 48.63 seconds\n"
     ]
    }
   ],
   "source": [
    "smp.simulate()"
   ]
  }
 ],
 "metadata": {
  "kernelspec": {
   "display_name": "Python 3 (ipykernel)",
   "language": "python",
   "name": "python3"
  },
  "language_info": {
   "codemirror_mode": {
    "name": "ipython",
    "version": 3
   },
   "file_extension": ".py",
   "mimetype": "text/x-python",
   "name": "python",
   "nbconvert_exporter": "python",
   "pygments_lexer": "ipython3",
   "version": "3.12.9"
  }
 },
 "nbformat": 4,
 "nbformat_minor": 5
}
