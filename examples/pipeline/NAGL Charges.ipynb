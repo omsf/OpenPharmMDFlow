{
 "cells": [
  {
   "cell_type": "code",
   "execution_count": 1,
   "id": "c426a42c-9c0d-4240-af7f-a71478689d0b",
   "metadata": {
    "execution": {
     "iopub.execute_input": "2025-09-26T22:56:20.119333Z",
     "iopub.status.busy": "2025-09-26T22:56:20.119070Z",
     "iopub.status.idle": "2025-09-26T22:56:23.076195Z",
     "shell.execute_reply": "2025-09-26T22:56:23.075601Z",
     "shell.execute_reply.started": "2025-09-26T22:56:20.119316Z"
    }
   },
   "outputs": [],
   "source": [
    "from openff.toolkit import Molecule\n",
    "from openff.toolkit.utils.nagl_wrapper import NAGLToolkitWrapper\n",
    "from openff.nagl_models import get_models_by_type, validate_nagl_model_path"
   ]
  },
  {
   "cell_type": "code",
   "execution_count": 2,
   "id": "76647fff-2d71-4794-84cd-1d241e9b1eb0",
   "metadata": {
    "execution": {
     "iopub.execute_input": "2025-09-26T22:56:23.077012Z",
     "iopub.status.busy": "2025-09-26T22:56:23.076673Z",
     "iopub.status.idle": "2025-09-26T22:56:23.100840Z",
     "shell.execute_reply": "2025-09-26T22:56:23.100392Z",
     "shell.execute_reply.started": "2025-09-26T22:56:23.076990Z"
    }
   },
   "outputs": [],
   "source": [
    "# Grab the latest production NAGL model\n",
    "nagl_model = get_models_by_type(model_type='am1bcc', production_only=True)[-1]\n",
    "model_path = validate_nagl_model_path(nagl_model)"
   ]
  },
  {
   "cell_type": "code",
   "execution_count": 3,
   "id": "e2d57420-22a3-43ed-8e4b-a5630db36181",
   "metadata": {
    "execution": {
     "iopub.execute_input": "2025-09-26T22:56:23.101516Z",
     "iopub.status.busy": "2025-09-26T22:56:23.101346Z",
     "iopub.status.idle": "2025-09-26T22:56:28.758316Z",
     "shell.execute_reply": "2025-09-26T22:56:28.757748Z",
     "shell.execute_reply.started": "2025-09-26T22:56:23.101499Z"
    }
   },
   "outputs": [
    {
     "name": "stdout",
     "output_type": "stream",
     "text": [
      "None\n"
     ]
    }
   ],
   "source": [
    "my_mol = Molecule.from_file(\"../polymer/HPMCAS-H-Trimer.sdf\")\n",
    "# Note there are no partial charges\n",
    "print(my_mol.partial_charges)\n",
    "# Now use NAGL to assign the partial charges\n",
    "my_mol.assign_partial_charges(toolkit_registry=NAGLToolkitWrapper(), partial_charge_method=model_path,)"
   ]
  },
  {
   "cell_type": "code",
   "execution_count": 4,
   "id": "4e8c2ad8-9a3a-49a4-84a7-b9c0e2ec12e9",
   "metadata": {
    "execution": {
     "iopub.execute_input": "2025-09-26T22:56:28.760422Z",
     "iopub.status.busy": "2025-09-26T22:56:28.758912Z",
     "iopub.status.idle": "2025-09-26T22:56:28.806448Z",
     "shell.execute_reply": "2025-09-26T22:56:28.806001Z",
     "shell.execute_reply.started": "2025-09-26T22:56:28.760398Z"
    }
   },
   "outputs": [
    {
     "data": {
      "text/html": [
       "<table><tbody><tr><th>Magnitude</th><td style='text-align:left;'><pre>[0.4064335569000996 0.09678563915260203 0.10430550269849666<br> 0.33410937033660776 -0.39855443991653555 0.12056348167426952<br> 0.0927927761531628 0.12040539525516399 -0.5794452384852611<br> -0.41596185721389883 -0.3887449160956585 -0.4293078438185894<br> 0.6533923789120473 -0.157144288792535 -0.5304586247348033<br> 0.11735260181196101 0.12987707994945413 0.13856898687847025<br> -0.11882370270721547 -0.5932327464961253 0.06521797619827159<br> 0.10682997547157176 0.045508500859812576 0.07587670229442485<br> 0.05800582163102992 0.04822634972699054 0.04822634972699054<br> 0.08127680860526927 0.08127680860526927 0.08127680860526927<br> 0.03580890663035281 0.03580890663035281 0.03580890663035281<br> 0.043408651576117355 0.043408651576117355 0.048085977063254196<br> 0.047268108204678375 0.047268108204678375 0.047268108204678375<br> 0.39974514089591867 0.08478558503158458 0.09007808260686763<br> 0.334713284597472 -0.3993812457465374 0.11276406489379771<br> 0.13345483385093576 0.1347587748623646 -0.3755864159011089<br> -0.4386219934367382 -0.3749967173480236 -0.3758794919394695<br> 0.12620906971462137 0.1164407476044453 0.647476558313445<br> -0.5459101156138622 -0.13374353505603903 -0.1238038048886501<br> 0.6344623609638966 -0.5445361093424999 -0.6059878424548351<br> 0.052147623822764236 0.06163763694532283 0.04685935072667964<br> 0.06692777268655666 0.06581393323905833 0.07007218591936 0.07007218591936<br> 0.032167476341799575 0.032167476341799575 0.032167476341799575<br> 0.035423022434786636 0.035423022434786636 0.035423022434786636<br> 0.10001022063262828 0.10001022063262828 0.10050895504720576<br> 0.10050895504720576 0.4492487355328358 0.1124392940855778<br> 0.07780410789020427 0.10651728950508006 -0.385404701604768<br> 0.0920589014149464 0.14736114881999857 0.13479418002136118<br> -0.3744223967932903 -0.4433115080737316 -0.38101043857566946<br> -0.39595800198547476 0.12130880795486339 0.11587177656658061<br> 0.6419429226971425 -0.5394556478404247 -0.1521878794573986<br> 0.062185846940354186 0.05021984942324527 0.0620530887699879<br> 0.07588701389797099 0.0639156147099293 0.07077576659686931<br> 0.07077576659686931 0.033205245361403304 0.033205245361403304<br> 0.033205245361403304 0.035434768275097686 0.035434768275097686<br> 0.035434768275097686 0.07868865571983226 0.07868868552215465<br> 0.07868868552215465 0.0620530887699879]</pre></td></tr><tr><th>Units</th><td style='text-align:left;'>elementary_charge</td></tr></tbody></table>"
      ],
      "text/latex": [
       "$\\begin{pmatrix} &  &  &  &  &  &  &  &  &  &  &  &  &  &  &  &  &  &  &  &  &  &  &  &  &  &  &  &  &  &  &  &  &  &  &  &  &  &  &  &  &  &  &  &  &  &  &  &  &  &  &  &  &  &  &  &  &  &  &  &  &  &  &  &  &  &  &  &  &  &  &  &  &  &  &  &  &  &  &  &  &  &  &  &  &  &  &  &  &  &  &  &  &  &  &  &  &  &  &  &  &  &  &  &  &  &  &  &  &  & \\end{pmatrix}\\ \\mathrm{elementary\\_charge}$"
      ],
      "text/plain": [
       "array([ 0.40643356,  0.09678564,  0.1043055 ,  0.33410937, -0.39855444,\n",
       "        0.12056348,  0.09279278,  0.1204054 , -0.57944524, -0.41596186,\n",
       "       -0.38874492, -0.42930784,  0.65339238, -0.15714429, -0.53045862,\n",
       "        0.1173526 ,  0.12987708,  0.13856899, -0.1188237 , -0.59323275,\n",
       "        0.06521798,  0.10682998,  0.0455085 ,  0.0758767 ,  0.05800582,\n",
       "        0.04822635,  0.04822635,  0.08127681,  0.08127681,  0.08127681,\n",
       "        0.03580891,  0.03580891,  0.03580891,  0.04340865,  0.04340865,\n",
       "        0.04808598,  0.04726811,  0.04726811,  0.04726811,  0.39974514,\n",
       "        0.08478559,  0.09007808,  0.33471328, -0.39938125,  0.11276406,\n",
       "        0.13345483,  0.13475877, -0.37558642, -0.43862199, -0.37499672,\n",
       "       -0.37587949,  0.12620907,  0.11644075,  0.64747656, -0.54591012,\n",
       "       -0.13374354, -0.1238038 ,  0.63446236, -0.54453611, -0.60598784,\n",
       "        0.05214762,  0.06163764,  0.04685935,  0.06692777,  0.06581393,\n",
       "        0.07007219,  0.07007219,  0.03216748,  0.03216748,  0.03216748,\n",
       "        0.03542302,  0.03542302,  0.03542302,  0.10001022,  0.10001022,\n",
       "        0.10050896,  0.10050896,  0.44924874,  0.11243929,  0.07780411,\n",
       "        0.10651729, -0.3854047 ,  0.0920589 ,  0.14736115,  0.13479418,\n",
       "       -0.3744224 , -0.44331151, -0.38101044, -0.395958  ,  0.12130881,\n",
       "        0.11587178,  0.64194292, -0.53945565, -0.15218788,  0.06218585,\n",
       "        0.05021985,  0.06205309,  0.07588701,  0.06391561,  0.07077577,\n",
       "        0.07077577,  0.03320525,  0.03320525,  0.03320525,  0.03543477,\n",
       "        0.03543477,  0.03543477,  0.07868866,  0.07868869,  0.07868869,\n",
       "        0.06205309]) <Unit('elementary_charge')>"
      ]
     },
     "execution_count": 4,
     "metadata": {},
     "output_type": "execute_result"
    }
   ],
   "source": [
    "my_mol.partial_charges"
   ]
  },
  {
   "cell_type": "code",
   "execution_count": 5,
   "id": "988972cb-2775-4ccc-b86c-880f6d999838",
   "metadata": {
    "execution": {
     "iopub.execute_input": "2025-09-26T22:56:28.807202Z",
     "iopub.status.busy": "2025-09-26T22:56:28.807007Z",
     "iopub.status.idle": "2025-09-26T22:56:28.813752Z",
     "shell.execute_reply": "2025-09-26T22:56:28.813261Z",
     "shell.execute_reply.started": "2025-09-26T22:56:28.807182Z"
    }
   },
   "outputs": [
    {
     "data": {
      "text/plain": [
       "'HPMCAS-H-Trimer-polymer'"
      ]
     },
     "execution_count": 5,
     "metadata": {},
     "output_type": "execute_result"
    }
   ],
   "source": [
    "my_mol.name"
   ]
  },
  {
   "cell_type": "code",
   "execution_count": 6,
   "id": "256818c4-828b-4fc3-ad71-f5daef4a0e65",
   "metadata": {
    "execution": {
     "iopub.execute_input": "2025-09-26T22:56:28.817959Z",
     "iopub.status.busy": "2025-09-26T22:56:28.817714Z",
     "iopub.status.idle": "2025-09-26T22:56:28.957507Z",
     "shell.execute_reply": "2025-09-26T22:56:28.957007Z",
     "shell.execute_reply.started": "2025-09-26T22:56:28.817937Z"
    }
   },
   "outputs": [
    {
     "data": {
      "application/vnd.jupyter.widget-view+json": {
       "model_id": "92cecaed45ba436fba7278ed567a598d",
       "version_major": 2,
       "version_minor": 0
      },
      "text/plain": []
     },
     "metadata": {},
     "output_type": "display_data"
    }
   ],
   "source": [
    "from openpharmmdflow.pipeline.sm.pipeline_settings import *\n",
    "from openpharmmdflow.pipeline.sm.pipeline import SmallMoleculePipeline\n",
    "import nglview"
   ]
  },
  {
   "cell_type": "code",
   "execution_count": 7,
   "id": "b5fd9149-cd5e-4dbb-bbcf-30367bc05a12",
   "metadata": {
    "execution": {
     "iopub.execute_input": "2025-09-26T22:56:28.958701Z",
     "iopub.status.busy": "2025-09-26T22:56:28.958109Z",
     "iopub.status.idle": "2025-09-26T22:56:28.962501Z",
     "shell.execute_reply": "2025-09-26T22:56:28.962054Z",
     "shell.execute_reply.started": "2025-09-26T22:56:28.958682Z"
    }
   },
   "outputs": [],
   "source": [
    "settings = {\n",
    "    # Not used right now\n",
    "    \"work_dir\": \"/home/mmh/Projects/OpenPharmMDFlow/experiments/sm/scratch\",\n",
    "    \"inputs\": [my_mol],\n",
    "    \"prep_config\": SmallMoleculePipelinePrepConfig(\n",
    "        bespokefit_config=BespokefitConfig(\n",
    "            bespoke_workflow_factory_config=BespokeWorkflowFactoryConfig(),\n",
    "            bespoke_executor_config=BespokeExecutorConfig(),\n",
    "            mol_to_bespoke=\"ibuprofen\",\n",
    "        )\n",
    "    ),\n",
    "    \"pack_config\": SmallMoleculePipelinePackConfig(\n",
    "        molecule_names=[my_mol.name,],\n",
    "        number_of_copies=[5],\n",
    "        target_density=0.1,\n",
    "    ),\n",
    "    \"parameterize_config\": SmallMoleculePipelineParameterizeConfig(),\n",
    "    \"simulate_config\": SmallMoleculePipelineSimulateConfig(),\n",
    "    \"analyize_config\": SmallMoleculePipelineAnalyizeConfig(),\n",
    "    \"solvate_config\": SmallMoleculePipelineSolvateConfig(\n",
    "    nacl_conc=Quantity(0.1, \"mole / liter\"),\n",
    "    padding=Quantity(1.2, \"nanometer\"),\n",
    "    box_shape=RHOMBIC_DODECAHEDRON,\n",
    "    target_density=Quantity(0.9, \"gram / milliliter\"),\n",
    "    tolerance=Quantity(2.0, \"angstrom\"),\n",
    "    )\n",
    "    }\n",
    "sm_config = SmallMoleculePipelineConfig(**settings)"
   ]
  },
  {
   "cell_type": "code",
   "execution_count": 8,
   "id": "16349fb9-8b3a-488f-afeb-cf4da423996f",
   "metadata": {
    "execution": {
     "iopub.execute_input": "2025-09-26T22:56:28.963092Z",
     "iopub.status.busy": "2025-09-26T22:56:28.962945Z",
     "iopub.status.idle": "2025-09-26T22:56:28.982800Z",
     "shell.execute_reply": "2025-09-26T22:56:28.982240Z",
     "shell.execute_reply.started": "2025-09-26T22:56:28.963078Z"
    }
   },
   "outputs": [],
   "source": [
    "smp = SmallMoleculePipeline(sm_config)\n",
    "smp.load()"
   ]
  },
  {
   "cell_type": "code",
   "execution_count": 9,
   "id": "23290e63-4089-4eda-8cfa-1124ab67cc3c",
   "metadata": {
    "execution": {
     "iopub.execute_input": "2025-09-26T22:56:28.984806Z",
     "iopub.status.busy": "2025-09-26T22:56:28.984644Z",
     "iopub.status.idle": "2025-09-26T22:56:29.048163Z",
     "shell.execute_reply": "2025-09-26T22:56:29.047565Z",
     "shell.execute_reply.started": "2025-09-26T22:56:28.984791Z"
    }
   },
   "outputs": [],
   "source": [
    "smp.pack()"
   ]
  },
  {
   "cell_type": "code",
   "execution_count": 10,
   "id": "31ba6c40-bb06-4030-a5b1-91401f756226",
   "metadata": {
    "execution": {
     "iopub.execute_input": "2025-09-26T22:56:29.048805Z",
     "iopub.status.busy": "2025-09-26T22:56:29.048642Z",
     "iopub.status.idle": "2025-09-26T22:56:29.095330Z",
     "shell.execute_reply": "2025-09-26T22:56:29.094747Z",
     "shell.execute_reply.started": "2025-09-26T22:56:29.048789Z"
    }
   },
   "outputs": [
    {
     "data": {
      "application/vnd.jupyter.widget-view+json": {
       "model_id": "9d227c0b2375438abef9998f52c92b33",
       "version_major": 2,
       "version_minor": 0
      },
      "text/plain": [
       "NGLWidget()"
      ]
     },
     "metadata": {},
     "output_type": "display_data"
    }
   ],
   "source": [
    "smp.topology.to_file(\"system.pdb\")\n",
    "nglview.show_structure_file(\"system.pdb\")"
   ]
  },
  {
   "cell_type": "code",
   "execution_count": 11,
   "id": "0533471d-2125-4fb4-926c-73b8ddfed80a",
   "metadata": {
    "execution": {
     "iopub.execute_input": "2025-09-26T22:56:29.096034Z",
     "iopub.status.busy": "2025-09-26T22:56:29.095830Z",
     "iopub.status.idle": "2025-09-26T22:56:35.694914Z",
     "shell.execute_reply": "2025-09-26T22:56:35.694478Z",
     "shell.execute_reply.started": "2025-09-26T22:56:29.096019Z"
    }
   },
   "outputs": [],
   "source": [
    "smp.solvate()"
   ]
  },
  {
   "cell_type": "code",
   "execution_count": 12,
   "id": "2e78c42b-feaf-42bf-b5e1-c6af0f5bb30b",
   "metadata": {
    "execution": {
     "iopub.execute_input": "2025-09-26T22:56:35.695498Z",
     "iopub.status.busy": "2025-09-26T22:56:35.695343Z",
     "iopub.status.idle": "2025-09-26T22:56:37.816283Z",
     "shell.execute_reply": "2025-09-26T22:56:37.815810Z",
     "shell.execute_reply.started": "2025-09-26T22:56:35.695484Z"
    }
   },
   "outputs": [
    {
     "data": {
      "application/vnd.jupyter.widget-view+json": {
       "model_id": "07ecf36e2dc245948f02ea485ef7728b",
       "version_major": 2,
       "version_minor": 0
      },
      "text/plain": [
       "NGLWidget()"
      ]
     },
     "metadata": {},
     "output_type": "display_data"
    }
   ],
   "source": [
    "smp.solvated_topology.to_file(\"system.pdb\")\n",
    "nglview.show_structure_file(\"system.pdb\")"
   ]
  },
  {
   "cell_type": "code",
   "execution_count": 13,
   "id": "fd086371-e043-45e2-b8e3-893daeb2d55a",
   "metadata": {
    "execution": {
     "iopub.execute_input": "2025-09-26T22:56:37.817002Z",
     "iopub.status.busy": "2025-09-26T22:56:37.816805Z",
     "iopub.status.idle": "2025-09-26T22:57:02.786822Z",
     "shell.execute_reply": "2025-09-26T22:57:02.786347Z",
     "shell.execute_reply.started": "2025-09-26T22:56:37.816985Z"
    }
   },
   "outputs": [
    {
     "name": "stderr",
     "output_type": "stream",
     "text": [
      "/home/mmh/micromamba/envs/openpharmmdflow-new/lib/python3.12/site-packages/openff/interchange/components/interchange.py:977: UserWarning: Interchange object combination is experimental and likely to produce strange results. Any workflow using this method is not guaranteed to be suitable for production. Use with extreme caution and thoroughly validate results!\n",
      "  return _combine(self, other)\n",
      "/home/mmh/micromamba/envs/openpharmmdflow-new/lib/python3.12/site-packages/openff/interchange/operations/_combine.py:126: UserWarning: Setting positions to None because one or both objects added together were missing positions.\n",
      "  warnings.warn(\n"
     ]
    }
   ],
   "source": [
    "smp.parameterize()"
   ]
  },
  {
   "cell_type": "code",
   "execution_count": 14,
   "id": "a130de2f-bef7-4fe5-a3f6-7d5f6dbe235e",
   "metadata": {
    "execution": {
     "iopub.execute_input": "2025-09-26T22:57:02.787379Z",
     "iopub.status.busy": "2025-09-26T22:57:02.787239Z",
     "iopub.status.idle": "2025-09-26T22:57:05.326092Z",
     "shell.execute_reply": "2025-09-26T22:57:05.325590Z",
     "shell.execute_reply.started": "2025-09-26T22:57:02.787365Z"
    }
   },
   "outputs": [
    {
     "data": {
      "application/vnd.jupyter.widget-view+json": {
       "model_id": "f2d6083d9ab64d16849ff92cfe5f7cee",
       "version_major": 2,
       "version_minor": 0
      },
      "text/plain": [
       "NGLWidget()"
      ]
     },
     "metadata": {},
     "output_type": "display_data"
    }
   ],
   "source": [
    "smp.interchange.visualize(\"nglview\")"
   ]
  },
  {
   "cell_type": "code",
   "execution_count": 15,
   "id": "de23c5b3-c8d7-484a-a8a8-071fe5c37ff9",
   "metadata": {
    "execution": {
     "iopub.execute_input": "2025-09-26T22:57:05.326785Z",
     "iopub.status.busy": "2025-09-26T22:57:05.326619Z",
     "iopub.status.idle": "2025-09-26T22:57:35.930176Z",
     "shell.execute_reply": "2025-09-26T22:57:35.929592Z",
     "shell.execute_reply.started": "2025-09-26T22:57:05.326770Z"
    }
   },
   "outputs": [
    {
     "name": "stdout",
     "output_type": "stream",
     "text": [
      "start minimize\n",
      "end minimize\n",
      "Starting simulation\n",
      "Step, volume (nm^3)\n",
      "0 157.025\n",
      "500 156.041\n",
      "1000 152.755\n",
      "1500 151.761\n",
      "2000 149.976\n",
      "2500 148.864\n",
      "3000 148.148\n",
      "3500 147.539\n",
      "4000 146.61\n",
      "4500 145.584\n",
      "Elapsed time: 5.94 seconds\n"
     ]
    }
   ],
   "source": [
    "smp.simulate()"
   ]
  },
  {
   "cell_type": "code",
   "execution_count": null,
   "id": "27f29390-609f-4bf9-a33d-10974647c9e5",
   "metadata": {},
   "outputs": [],
   "source": []
  }
 ],
 "metadata": {
  "kernelspec": {
   "display_name": "Python 3 (ipykernel)",
   "language": "python",
   "name": "python3"
  },
  "language_info": {
   "codemirror_mode": {
    "name": "ipython",
    "version": 3
   },
   "file_extension": ".py",
   "mimetype": "text/x-python",
   "name": "python",
   "nbconvert_exporter": "python",
   "pygments_lexer": "ipython3",
   "version": "3.12.9"
  }
 },
 "nbformat": 4,
 "nbformat_minor": 5
}
